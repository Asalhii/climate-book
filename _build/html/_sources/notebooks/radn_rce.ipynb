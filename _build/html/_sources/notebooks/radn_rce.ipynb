{
 "cells": [
  {
   "cell_type": "markdown",
   "metadata": {
    "slideshow": {
     "slide_type": "slide"
    }
   },
   "source": [
    "# Radiative-Convective Equilibrium\n",
    "\n",
    "This notebook is part of [The Climate Laboratory](https://brian-rose.github.io/ClimateLaboratoryBook) by [Brian E. J. Rose](http://www.atmos.albany.edu/facstaff/brose/index.html), University at Albany."
   ]
  },
  {
   "cell_type": "markdown",
   "metadata": {},
   "source": [
    "\n",
    "\n",
    "## 1. Recap of radiative equilibrium results\n",
    "____________\n",
    "\n",
    "The following code block reproduces the results of the notebook on radiative equilibrium.\n",
    "\n",
    "*For Python details, click to expand the code*"
   ]
  },
  {
   "cell_type": "code",
   "execution_count": 1,
   "metadata": {
    "tags": [
     "hide_input"
    ]
   },
   "outputs": [],
   "source": [
    "# packages we need.\n",
    "%matplotlib inline\n",
    "import numpy as np\n",
    "import matplotlib.pyplot as plt\n",
    "import xarray as xr\n",
    "import climlab\n",
    "from netCDF4 import Dataset\n",
    "from cdo import Cdo\n",
    "from metpy.plots import SkewT\n",
    "from IPython.display import HTML\n",
    "from matplotlib import animation\n"
   ]
  },
  {
   "cell_type": "code",
   "execution_count": 2,
   "metadata": {},
   "outputs": [
    {
     "ename": "OSError",
     "evalue": "[Errno -90] NetCDF: file not found: 'http://www.esrl.noaa.gov/psd/thredds/dodsC/Datasets/ncep.reanalysis.derived/'",
     "output_type": "error",
     "traceback": [
      "\u001b[0;31m---------------------------------------------------------------------------\u001b[0m",
      "\u001b[0;31mKeyError\u001b[0m                                  Traceback (most recent call last)",
      "File \u001b[0;32m~/miniconda3/envs/climlabfix/lib/python3.10/site-packages/xarray/backends/file_manager.py:211\u001b[0m, in \u001b[0;36mCachingFileManager._acquire_with_cache_info\u001b[0;34m(self, needs_lock)\u001b[0m\n\u001b[1;32m    210\u001b[0m \u001b[38;5;28;01mtry\u001b[39;00m:\n\u001b[0;32m--> 211\u001b[0m     file \u001b[38;5;241m=\u001b[39m \u001b[38;5;28;43mself\u001b[39;49m\u001b[38;5;241;43m.\u001b[39;49m\u001b[43m_cache\u001b[49m\u001b[43m[\u001b[49m\u001b[38;5;28;43mself\u001b[39;49m\u001b[38;5;241;43m.\u001b[39;49m\u001b[43m_key\u001b[49m\u001b[43m]\u001b[49m\n\u001b[1;32m    212\u001b[0m \u001b[38;5;28;01mexcept\u001b[39;00m \u001b[38;5;167;01mKeyError\u001b[39;00m:\n",
      "File \u001b[0;32m~/miniconda3/envs/climlabfix/lib/python3.10/site-packages/xarray/backends/lru_cache.py:56\u001b[0m, in \u001b[0;36mLRUCache.__getitem__\u001b[0;34m(self, key)\u001b[0m\n\u001b[1;32m     55\u001b[0m \u001b[38;5;28;01mwith\u001b[39;00m \u001b[38;5;28mself\u001b[39m\u001b[38;5;241m.\u001b[39m_lock:\n\u001b[0;32m---> 56\u001b[0m     value \u001b[38;5;241m=\u001b[39m \u001b[38;5;28;43mself\u001b[39;49m\u001b[38;5;241;43m.\u001b[39;49m\u001b[43m_cache\u001b[49m\u001b[43m[\u001b[49m\u001b[43mkey\u001b[49m\u001b[43m]\u001b[49m\n\u001b[1;32m     57\u001b[0m     \u001b[38;5;28mself\u001b[39m\u001b[38;5;241m.\u001b[39m_cache\u001b[38;5;241m.\u001b[39mmove_to_end(key)\n",
      "\u001b[0;31mKeyError\u001b[0m: [<class 'netCDF4._netCDF4.Dataset'>, ('http://www.esrl.noaa.gov/psd/thredds/dodsC/Datasets/ncep.reanalysis.derived/',), 'r', (('clobber', True), ('diskless', False), ('format', 'NETCDF4'), ('persist', False)), 'c7bbc91a-87cb-461d-a065-c83ed0767198']",
      "\nDuring handling of the above exception, another exception occurred:\n",
      "\u001b[0;31mOSError\u001b[0m                                   Traceback (most recent call last)",
      "Cell \u001b[0;32mIn[2], line 5\u001b[0m\n\u001b[1;32m      2\u001b[0m ncep_url \u001b[38;5;241m=\u001b[39m \u001b[38;5;124m\"\u001b[39m\u001b[38;5;124mhttp://www.esrl.noaa.gov/psd/thredds/dodsC/Datasets/ncep.reanalysis.derived/\u001b[39m\u001b[38;5;124m\"\u001b[39m\n\u001b[1;32m      3\u001b[0m \u001b[38;5;66;03m#ncep_air = xr.open_dataset(\"~/Downloads/air.mon.1981-2010.ltm.nc\", use_cftime=True)\u001b[39;00m\n\u001b[0;32m----> 5\u001b[0m ncep_air\u001b[38;5;241m=\u001b[39m\u001b[43mxr\u001b[49m\u001b[38;5;241;43m.\u001b[39;49m\u001b[43mopen_dataset\u001b[49m\u001b[43m(\u001b[49m\u001b[43mncep_url\u001b[49m\u001b[43m,\u001b[49m\u001b[43muse_cftime\u001b[49m\u001b[38;5;241;43m=\u001b[39;49m\u001b[38;5;28;43;01mTrue\u001b[39;49;00m\u001b[43m)\u001b[49m\n\u001b[1;32m      7\u001b[0m \u001b[38;5;66;03m#  Take global, annual average \u001b[39;00m\n\u001b[1;32m      8\u001b[0m coslat \u001b[38;5;241m=\u001b[39m np\u001b[38;5;241m.\u001b[39mcos(np\u001b[38;5;241m.\u001b[39mdeg2rad(ncep_air\u001b[38;5;241m.\u001b[39mlat))\n",
      "File \u001b[0;32m~/miniconda3/envs/climlabfix/lib/python3.10/site-packages/xarray/backends/api.py:572\u001b[0m, in \u001b[0;36mopen_dataset\u001b[0;34m(filename_or_obj, engine, chunks, cache, decode_cf, mask_and_scale, decode_times, decode_timedelta, use_cftime, concat_characters, decode_coords, drop_variables, inline_array, chunked_array_type, from_array_kwargs, backend_kwargs, **kwargs)\u001b[0m\n\u001b[1;32m    560\u001b[0m decoders \u001b[38;5;241m=\u001b[39m _resolve_decoders_kwargs(\n\u001b[1;32m    561\u001b[0m     decode_cf,\n\u001b[1;32m    562\u001b[0m     open_backend_dataset_parameters\u001b[38;5;241m=\u001b[39mbackend\u001b[38;5;241m.\u001b[39mopen_dataset_parameters,\n\u001b[0;32m   (...)\u001b[0m\n\u001b[1;32m    568\u001b[0m     decode_coords\u001b[38;5;241m=\u001b[39mdecode_coords,\n\u001b[1;32m    569\u001b[0m )\n\u001b[1;32m    571\u001b[0m overwrite_encoded_chunks \u001b[38;5;241m=\u001b[39m kwargs\u001b[38;5;241m.\u001b[39mpop(\u001b[38;5;124m\"\u001b[39m\u001b[38;5;124moverwrite_encoded_chunks\u001b[39m\u001b[38;5;124m\"\u001b[39m, \u001b[38;5;28;01mNone\u001b[39;00m)\n\u001b[0;32m--> 572\u001b[0m backend_ds \u001b[38;5;241m=\u001b[39m \u001b[43mbackend\u001b[49m\u001b[38;5;241;43m.\u001b[39;49m\u001b[43mopen_dataset\u001b[49m\u001b[43m(\u001b[49m\n\u001b[1;32m    573\u001b[0m \u001b[43m    \u001b[49m\u001b[43mfilename_or_obj\u001b[49m\u001b[43m,\u001b[49m\n\u001b[1;32m    574\u001b[0m \u001b[43m    \u001b[49m\u001b[43mdrop_variables\u001b[49m\u001b[38;5;241;43m=\u001b[39;49m\u001b[43mdrop_variables\u001b[49m\u001b[43m,\u001b[49m\n\u001b[1;32m    575\u001b[0m \u001b[43m    \u001b[49m\u001b[38;5;241;43m*\u001b[39;49m\u001b[38;5;241;43m*\u001b[39;49m\u001b[43mdecoders\u001b[49m\u001b[43m,\u001b[49m\n\u001b[1;32m    576\u001b[0m \u001b[43m    \u001b[49m\u001b[38;5;241;43m*\u001b[39;49m\u001b[38;5;241;43m*\u001b[39;49m\u001b[43mkwargs\u001b[49m\u001b[43m,\u001b[49m\n\u001b[1;32m    577\u001b[0m \u001b[43m\u001b[49m\u001b[43m)\u001b[49m\n\u001b[1;32m    578\u001b[0m ds \u001b[38;5;241m=\u001b[39m _dataset_from_backend_dataset(\n\u001b[1;32m    579\u001b[0m     backend_ds,\n\u001b[1;32m    580\u001b[0m     filename_or_obj,\n\u001b[0;32m   (...)\u001b[0m\n\u001b[1;32m    590\u001b[0m     \u001b[38;5;241m*\u001b[39m\u001b[38;5;241m*\u001b[39mkwargs,\n\u001b[1;32m    591\u001b[0m )\n\u001b[1;32m    592\u001b[0m \u001b[38;5;28;01mreturn\u001b[39;00m ds\n",
      "File \u001b[0;32m~/miniconda3/envs/climlabfix/lib/python3.10/site-packages/xarray/backends/netCDF4_.py:593\u001b[0m, in \u001b[0;36mNetCDF4BackendEntrypoint.open_dataset\u001b[0;34m(self, filename_or_obj, mask_and_scale, decode_times, concat_characters, decode_coords, drop_variables, use_cftime, decode_timedelta, group, mode, format, clobber, diskless, persist, lock, autoclose)\u001b[0m\n\u001b[1;32m    572\u001b[0m \u001b[38;5;28;01mdef\u001b[39;00m \u001b[38;5;21mopen_dataset\u001b[39m(  \u001b[38;5;66;03m# type: ignore[override]  # allow LSP violation, not supporting **kwargs\u001b[39;00m\n\u001b[1;32m    573\u001b[0m     \u001b[38;5;28mself\u001b[39m,\n\u001b[1;32m    574\u001b[0m     filename_or_obj: \u001b[38;5;28mstr\u001b[39m \u001b[38;5;241m|\u001b[39m os\u001b[38;5;241m.\u001b[39mPathLike[Any] \u001b[38;5;241m|\u001b[39m BufferedIOBase \u001b[38;5;241m|\u001b[39m AbstractDataStore,\n\u001b[0;32m   (...)\u001b[0m\n\u001b[1;32m    590\u001b[0m     autoclose\u001b[38;5;241m=\u001b[39m\u001b[38;5;28;01mFalse\u001b[39;00m,\n\u001b[1;32m    591\u001b[0m ) \u001b[38;5;241m-\u001b[39m\u001b[38;5;241m>\u001b[39m Dataset:\n\u001b[1;32m    592\u001b[0m     filename_or_obj \u001b[38;5;241m=\u001b[39m _normalize_path(filename_or_obj)\n\u001b[0;32m--> 593\u001b[0m     store \u001b[38;5;241m=\u001b[39m \u001b[43mNetCDF4DataStore\u001b[49m\u001b[38;5;241;43m.\u001b[39;49m\u001b[43mopen\u001b[49m\u001b[43m(\u001b[49m\n\u001b[1;32m    594\u001b[0m \u001b[43m        \u001b[49m\u001b[43mfilename_or_obj\u001b[49m\u001b[43m,\u001b[49m\n\u001b[1;32m    595\u001b[0m \u001b[43m        \u001b[49m\u001b[43mmode\u001b[49m\u001b[38;5;241;43m=\u001b[39;49m\u001b[43mmode\u001b[49m\u001b[43m,\u001b[49m\n\u001b[1;32m    596\u001b[0m \u001b[43m        \u001b[49m\u001b[38;5;28;43mformat\u001b[39;49m\u001b[38;5;241;43m=\u001b[39;49m\u001b[38;5;28;43mformat\u001b[39;49m\u001b[43m,\u001b[49m\n\u001b[1;32m    597\u001b[0m \u001b[43m        \u001b[49m\u001b[43mgroup\u001b[49m\u001b[38;5;241;43m=\u001b[39;49m\u001b[43mgroup\u001b[49m\u001b[43m,\u001b[49m\n\u001b[1;32m    598\u001b[0m \u001b[43m        \u001b[49m\u001b[43mclobber\u001b[49m\u001b[38;5;241;43m=\u001b[39;49m\u001b[43mclobber\u001b[49m\u001b[43m,\u001b[49m\n\u001b[1;32m    599\u001b[0m \u001b[43m        \u001b[49m\u001b[43mdiskless\u001b[49m\u001b[38;5;241;43m=\u001b[39;49m\u001b[43mdiskless\u001b[49m\u001b[43m,\u001b[49m\n\u001b[1;32m    600\u001b[0m \u001b[43m        \u001b[49m\u001b[43mpersist\u001b[49m\u001b[38;5;241;43m=\u001b[39;49m\u001b[43mpersist\u001b[49m\u001b[43m,\u001b[49m\n\u001b[1;32m    601\u001b[0m \u001b[43m        \u001b[49m\u001b[43mlock\u001b[49m\u001b[38;5;241;43m=\u001b[39;49m\u001b[43mlock\u001b[49m\u001b[43m,\u001b[49m\n\u001b[1;32m    602\u001b[0m \u001b[43m        \u001b[49m\u001b[43mautoclose\u001b[49m\u001b[38;5;241;43m=\u001b[39;49m\u001b[43mautoclose\u001b[49m\u001b[43m,\u001b[49m\n\u001b[1;32m    603\u001b[0m \u001b[43m    \u001b[49m\u001b[43m)\u001b[49m\n\u001b[1;32m    605\u001b[0m     store_entrypoint \u001b[38;5;241m=\u001b[39m StoreBackendEntrypoint()\n\u001b[1;32m    606\u001b[0m     \u001b[38;5;28;01mwith\u001b[39;00m close_on_error(store):\n",
      "File \u001b[0;32m~/miniconda3/envs/climlabfix/lib/python3.10/site-packages/xarray/backends/netCDF4_.py:400\u001b[0m, in \u001b[0;36mNetCDF4DataStore.open\u001b[0;34m(cls, filename, mode, format, group, clobber, diskless, persist, lock, lock_maker, autoclose)\u001b[0m\n\u001b[1;32m    394\u001b[0m kwargs \u001b[38;5;241m=\u001b[39m \u001b[38;5;28mdict\u001b[39m(\n\u001b[1;32m    395\u001b[0m     clobber\u001b[38;5;241m=\u001b[39mclobber, diskless\u001b[38;5;241m=\u001b[39mdiskless, persist\u001b[38;5;241m=\u001b[39mpersist, \u001b[38;5;28mformat\u001b[39m\u001b[38;5;241m=\u001b[39m\u001b[38;5;28mformat\u001b[39m\n\u001b[1;32m    396\u001b[0m )\n\u001b[1;32m    397\u001b[0m manager \u001b[38;5;241m=\u001b[39m CachingFileManager(\n\u001b[1;32m    398\u001b[0m     netCDF4\u001b[38;5;241m.\u001b[39mDataset, filename, mode\u001b[38;5;241m=\u001b[39mmode, kwargs\u001b[38;5;241m=\u001b[39mkwargs\n\u001b[1;32m    399\u001b[0m )\n\u001b[0;32m--> 400\u001b[0m \u001b[38;5;28;01mreturn\u001b[39;00m \u001b[38;5;28;43mcls\u001b[39;49m\u001b[43m(\u001b[49m\u001b[43mmanager\u001b[49m\u001b[43m,\u001b[49m\u001b[43m \u001b[49m\u001b[43mgroup\u001b[49m\u001b[38;5;241;43m=\u001b[39;49m\u001b[43mgroup\u001b[49m\u001b[43m,\u001b[49m\u001b[43m \u001b[49m\u001b[43mmode\u001b[49m\u001b[38;5;241;43m=\u001b[39;49m\u001b[43mmode\u001b[49m\u001b[43m,\u001b[49m\u001b[43m \u001b[49m\u001b[43mlock\u001b[49m\u001b[38;5;241;43m=\u001b[39;49m\u001b[43mlock\u001b[49m\u001b[43m,\u001b[49m\u001b[43m \u001b[49m\u001b[43mautoclose\u001b[49m\u001b[38;5;241;43m=\u001b[39;49m\u001b[43mautoclose\u001b[49m\u001b[43m)\u001b[49m\n",
      "File \u001b[0;32m~/miniconda3/envs/climlabfix/lib/python3.10/site-packages/xarray/backends/netCDF4_.py:347\u001b[0m, in \u001b[0;36mNetCDF4DataStore.__init__\u001b[0;34m(self, manager, group, mode, lock, autoclose)\u001b[0m\n\u001b[1;32m    345\u001b[0m \u001b[38;5;28mself\u001b[39m\u001b[38;5;241m.\u001b[39m_group \u001b[38;5;241m=\u001b[39m group\n\u001b[1;32m    346\u001b[0m \u001b[38;5;28mself\u001b[39m\u001b[38;5;241m.\u001b[39m_mode \u001b[38;5;241m=\u001b[39m mode\n\u001b[0;32m--> 347\u001b[0m \u001b[38;5;28mself\u001b[39m\u001b[38;5;241m.\u001b[39mformat \u001b[38;5;241m=\u001b[39m \u001b[38;5;28;43mself\u001b[39;49m\u001b[38;5;241;43m.\u001b[39;49m\u001b[43mds\u001b[49m\u001b[38;5;241m.\u001b[39mdata_model\n\u001b[1;32m    348\u001b[0m \u001b[38;5;28mself\u001b[39m\u001b[38;5;241m.\u001b[39m_filename \u001b[38;5;241m=\u001b[39m \u001b[38;5;28mself\u001b[39m\u001b[38;5;241m.\u001b[39mds\u001b[38;5;241m.\u001b[39mfilepath()\n\u001b[1;32m    349\u001b[0m \u001b[38;5;28mself\u001b[39m\u001b[38;5;241m.\u001b[39mis_remote \u001b[38;5;241m=\u001b[39m is_remote_uri(\u001b[38;5;28mself\u001b[39m\u001b[38;5;241m.\u001b[39m_filename)\n",
      "File \u001b[0;32m~/miniconda3/envs/climlabfix/lib/python3.10/site-packages/xarray/backends/netCDF4_.py:409\u001b[0m, in \u001b[0;36mNetCDF4DataStore.ds\u001b[0;34m(self)\u001b[0m\n\u001b[1;32m    407\u001b[0m \u001b[38;5;129m@property\u001b[39m\n\u001b[1;32m    408\u001b[0m \u001b[38;5;28;01mdef\u001b[39;00m \u001b[38;5;21mds\u001b[39m(\u001b[38;5;28mself\u001b[39m):\n\u001b[0;32m--> 409\u001b[0m     \u001b[38;5;28;01mreturn\u001b[39;00m \u001b[38;5;28;43mself\u001b[39;49m\u001b[38;5;241;43m.\u001b[39;49m\u001b[43m_acquire\u001b[49m\u001b[43m(\u001b[49m\u001b[43m)\u001b[49m\n",
      "File \u001b[0;32m~/miniconda3/envs/climlabfix/lib/python3.10/site-packages/xarray/backends/netCDF4_.py:403\u001b[0m, in \u001b[0;36mNetCDF4DataStore._acquire\u001b[0;34m(self, needs_lock)\u001b[0m\n\u001b[1;32m    402\u001b[0m \u001b[38;5;28;01mdef\u001b[39;00m \u001b[38;5;21m_acquire\u001b[39m(\u001b[38;5;28mself\u001b[39m, needs_lock\u001b[38;5;241m=\u001b[39m\u001b[38;5;28;01mTrue\u001b[39;00m):\n\u001b[0;32m--> 403\u001b[0m     \u001b[38;5;28;01mwith\u001b[39;00m \u001b[38;5;28mself\u001b[39m\u001b[38;5;241m.\u001b[39m_manager\u001b[38;5;241m.\u001b[39macquire_context(needs_lock) \u001b[38;5;28;01mas\u001b[39;00m root:\n\u001b[1;32m    404\u001b[0m         ds \u001b[38;5;241m=\u001b[39m _nc4_require_group(root, \u001b[38;5;28mself\u001b[39m\u001b[38;5;241m.\u001b[39m_group, \u001b[38;5;28mself\u001b[39m\u001b[38;5;241m.\u001b[39m_mode)\n\u001b[1;32m    405\u001b[0m     \u001b[38;5;28;01mreturn\u001b[39;00m ds\n",
      "File \u001b[0;32m~/miniconda3/envs/climlabfix/lib/python3.10/contextlib.py:135\u001b[0m, in \u001b[0;36m_GeneratorContextManager.__enter__\u001b[0;34m(self)\u001b[0m\n\u001b[1;32m    133\u001b[0m \u001b[38;5;28;01mdel\u001b[39;00m \u001b[38;5;28mself\u001b[39m\u001b[38;5;241m.\u001b[39margs, \u001b[38;5;28mself\u001b[39m\u001b[38;5;241m.\u001b[39mkwds, \u001b[38;5;28mself\u001b[39m\u001b[38;5;241m.\u001b[39mfunc\n\u001b[1;32m    134\u001b[0m \u001b[38;5;28;01mtry\u001b[39;00m:\n\u001b[0;32m--> 135\u001b[0m     \u001b[38;5;28;01mreturn\u001b[39;00m \u001b[38;5;28;43mnext\u001b[39;49m\u001b[43m(\u001b[49m\u001b[38;5;28;43mself\u001b[39;49m\u001b[38;5;241;43m.\u001b[39;49m\u001b[43mgen\u001b[49m\u001b[43m)\u001b[49m\n\u001b[1;32m    136\u001b[0m \u001b[38;5;28;01mexcept\u001b[39;00m \u001b[38;5;167;01mStopIteration\u001b[39;00m:\n\u001b[1;32m    137\u001b[0m     \u001b[38;5;28;01mraise\u001b[39;00m \u001b[38;5;167;01mRuntimeError\u001b[39;00m(\u001b[38;5;124m\"\u001b[39m\u001b[38;5;124mgenerator didn\u001b[39m\u001b[38;5;124m'\u001b[39m\u001b[38;5;124mt yield\u001b[39m\u001b[38;5;124m\"\u001b[39m) \u001b[38;5;28;01mfrom\u001b[39;00m \u001b[38;5;28;01mNone\u001b[39;00m\n",
      "File \u001b[0;32m~/miniconda3/envs/climlabfix/lib/python3.10/site-packages/xarray/backends/file_manager.py:199\u001b[0m, in \u001b[0;36mCachingFileManager.acquire_context\u001b[0;34m(self, needs_lock)\u001b[0m\n\u001b[1;32m    196\u001b[0m \u001b[38;5;129m@contextlib\u001b[39m\u001b[38;5;241m.\u001b[39mcontextmanager\n\u001b[1;32m    197\u001b[0m \u001b[38;5;28;01mdef\u001b[39;00m \u001b[38;5;21macquire_context\u001b[39m(\u001b[38;5;28mself\u001b[39m, needs_lock\u001b[38;5;241m=\u001b[39m\u001b[38;5;28;01mTrue\u001b[39;00m):\n\u001b[1;32m    198\u001b[0m \u001b[38;5;250m    \u001b[39m\u001b[38;5;124;03m\"\"\"Context manager for acquiring a file.\"\"\"\u001b[39;00m\n\u001b[0;32m--> 199\u001b[0m     file, cached \u001b[38;5;241m=\u001b[39m \u001b[38;5;28;43mself\u001b[39;49m\u001b[38;5;241;43m.\u001b[39;49m\u001b[43m_acquire_with_cache_info\u001b[49m\u001b[43m(\u001b[49m\u001b[43mneeds_lock\u001b[49m\u001b[43m)\u001b[49m\n\u001b[1;32m    200\u001b[0m     \u001b[38;5;28;01mtry\u001b[39;00m:\n\u001b[1;32m    201\u001b[0m         \u001b[38;5;28;01myield\u001b[39;00m file\n",
      "File \u001b[0;32m~/miniconda3/envs/climlabfix/lib/python3.10/site-packages/xarray/backends/file_manager.py:217\u001b[0m, in \u001b[0;36mCachingFileManager._acquire_with_cache_info\u001b[0;34m(self, needs_lock)\u001b[0m\n\u001b[1;32m    215\u001b[0m     kwargs \u001b[38;5;241m=\u001b[39m kwargs\u001b[38;5;241m.\u001b[39mcopy()\n\u001b[1;32m    216\u001b[0m     kwargs[\u001b[38;5;124m\"\u001b[39m\u001b[38;5;124mmode\u001b[39m\u001b[38;5;124m\"\u001b[39m] \u001b[38;5;241m=\u001b[39m \u001b[38;5;28mself\u001b[39m\u001b[38;5;241m.\u001b[39m_mode\n\u001b[0;32m--> 217\u001b[0m file \u001b[38;5;241m=\u001b[39m \u001b[38;5;28;43mself\u001b[39;49m\u001b[38;5;241;43m.\u001b[39;49m\u001b[43m_opener\u001b[49m\u001b[43m(\u001b[49m\u001b[38;5;241;43m*\u001b[39;49m\u001b[38;5;28;43mself\u001b[39;49m\u001b[38;5;241;43m.\u001b[39;49m\u001b[43m_args\u001b[49m\u001b[43m,\u001b[49m\u001b[43m \u001b[49m\u001b[38;5;241;43m*\u001b[39;49m\u001b[38;5;241;43m*\u001b[39;49m\u001b[43mkwargs\u001b[49m\u001b[43m)\u001b[49m\n\u001b[1;32m    218\u001b[0m \u001b[38;5;28;01mif\u001b[39;00m \u001b[38;5;28mself\u001b[39m\u001b[38;5;241m.\u001b[39m_mode \u001b[38;5;241m==\u001b[39m \u001b[38;5;124m\"\u001b[39m\u001b[38;5;124mw\u001b[39m\u001b[38;5;124m\"\u001b[39m:\n\u001b[1;32m    219\u001b[0m     \u001b[38;5;66;03m# ensure file doesn't get overridden when opened again\u001b[39;00m\n\u001b[1;32m    220\u001b[0m     \u001b[38;5;28mself\u001b[39m\u001b[38;5;241m.\u001b[39m_mode \u001b[38;5;241m=\u001b[39m \u001b[38;5;124m\"\u001b[39m\u001b[38;5;124ma\u001b[39m\u001b[38;5;124m\"\u001b[39m\n",
      "File \u001b[0;32msrc/netCDF4/_netCDF4.pyx:2469\u001b[0m, in \u001b[0;36mnetCDF4._netCDF4.Dataset.__init__\u001b[0;34m()\u001b[0m\n",
      "File \u001b[0;32msrc/netCDF4/_netCDF4.pyx:2028\u001b[0m, in \u001b[0;36mnetCDF4._netCDF4._ensure_nc_success\u001b[0;34m()\u001b[0m\n",
      "\u001b[0;31mOSError\u001b[0m: [Errno -90] NetCDF: file not found: 'http://www.esrl.noaa.gov/psd/thredds/dodsC/Datasets/ncep.reanalysis.derived/'"
     ]
    }
   ],
   "source": [
    "#  get the annual mean air temperature\n",
    "ncep_url = \"http://www.esrl.noaa.gov/psd/thredds/dodsC/Datasets/ncep.reanalysis.derived/\"\n",
    "#ncep_air = xr.open_dataset(\"~/Downloads/air.mon.1981-2010.ltm.nc\", use_cftime=True)\n",
    "\n",
    "ncep_air=xr.open_dataset(ncep_url,use_cftime=True)\n",
    "\n",
    "#  Take global, annual average \n",
    "coslat = np.cos(np.deg2rad(ncep_air.lat))\n",
    "weight = coslat / coslat.mean(dim='lat')\n",
    "Tglobal = (ncep_air.air * weight).mean(dim=('lat','lon','time'))\n"
   ]
  },
  {
   "cell_type": "code",
   "execution_count": null,
   "metadata": {},
   "outputs": [],
   "source": [
    "#  Resuable function to plot the temperature data on a Skew-T chart\n",
    "def make_skewT():\n",
    "    fig = plt.figure(figsize=(9, 9))\n",
    "    skew = SkewT(fig, rotation=30)\n",
    "    skew.plot(Tglobal.level, Tglobal, color='black', linestyle='-', linewidth=2, label='Observations')\n",
    "    skew.ax.set_ylim(1050, 10)\n",
    "    skew.ax.set_xlim(-90, 45)\n",
    "    # Add the relevant special lines\n",
    "    skew.plot_dry_adiabats(linewidth=0.5)\n",
    "    skew.plot_moist_adiabats(linewidth=0.5)\n",
    "    #skew.plot_mixing_lines()\n",
    "    skew.ax.legend()\n",
    "    skew.ax.set_xlabel('Temperature (degC)', fontsize=14)\n",
    "    skew.ax.set_ylabel('Pressure (hPa)', fontsize=14)\n",
    "    return skew\n",
    "#  and a function to add extra profiles to this chart\n",
    "def add_profile(skew, model, linestyle='-', color=None):\n",
    "    line = skew.plot(model.lev, model.Tatm - climlab.constants.tempCtoK,\n",
    "             label=model.name, linewidth=2)[0]\n",
    "    skew.plot(1000, model.Ts - climlab.constants.tempCtoK, 'o', \n",
    "              markersize=8, color=line.get_color())\n",
    "    skew.ax.legend()\n"
   ]
  },
  {
   "cell_type": "code",
   "execution_count": null,
   "metadata": {},
   "outputs": [],
   "source": [
    "# get the humidity\n",
    "\n",
    "# NEED TO HAVE RUN RADEQ NOTEBOOK FIRST TO HAVE QV.NC LOCALLY\n",
    "\n",
    "cdo = Cdo()\n",
    "Qglobal2=cdo.fldmean(input=\"qv.nc\")\n",
    "qvfile=Dataset(Qglobal2)\n",
    "Qglobal=qvfile.variables[\"q\"][:].flatten()\n",
    "Qglobal.lev=qvfile.variables[\"level\"][:]"
   ]
  },
  {
   "cell_type": "code",
   "execution_count": null,
   "metadata": {},
   "outputs": [],
   "source": [
    "#cesm_data_path = \"http://thredds.atmos.albany.edu:8080/thredds/dodsC/CESMA/\"\n",
    "#atm_control = xr.open_dataset(cesm_data_path + \"cpl_1850_f19/concatenated/cpl_1850_f19.cam.h0.nc\")\n",
    "\n",
    "# Take global, annual average of the specific humidity\n",
    "#weight_factor = atm_control.gw / atm_control.gw.mean(dim='lat')\n",
    "#Qglobal = (atm_control.Q * weight_factor).mean(dim=('lat','lon','time'))\n"
   ]
  },
  {
   "cell_type": "code",
   "execution_count": null,
   "metadata": {},
   "outputs": [],
   "source": [
    "# Get the water vapor data from CESM output\n",
    "#cesm_data_path = \"http://thredds.atmos.albany.edu:8080/thredds/dodsC/CESMA/\"\n",
    "#atm_control = xr.open_dataset(cesm_data_path + \"cpl_1850_f19/concatenated/cpl_1850_f19.cam.h0.nc\")\n",
    "#atm_control = xr.open_dataset(cesm_data_path + \"cpl_1850_f19/concatenated/cpl_1850_f19.cam.h0.nc\")\n",
    "\n",
    "# Take global, annual average of the specific humidity\n",
    "#weight_factor = atm_control.gw / atm_control.gw.mean(dim='lat')\n",
    "#Qglobal = (atm_control.Q * weight_factor).mean(dim=('lat','lon','time'))\n",
    "\n",
    "\n",
    "\n",
    "\n",
    "#  Create the single-column model domain\n",
    "\n",
    "#  Make a model on same vertical domain as the GCM\n",
    "mystate = climlab.column_state(lev=Qglobal.lev, water_depth=2.5)\n",
    "#  Create the model itself -- radiation only!\n",
    "rad = climlab.radiation.RRTMG(name='Radiation (all gases)',  # give our model a name!\n",
    "                              state=mystate,   # give our model an initial condition!\n",
    "                              specific_humidity=Qglobal,  # tell the model how much water vapor there is\n",
    "                              albedo = 0.25,  # this the SURFACE shortwave albedo\n",
    "                              timestep = climlab.constants.seconds_per_day,  # set the timestep to one day (measured in seconds)\n",
    "                             )\n",
    "\n",
    "#  remove ozone\n",
    "rad_noO3 = climlab.process_like(rad)\n",
    "rad_noO3.absorber_vmr['O3'] *= 0.\n",
    "rad_noO3.name = 'no O3'\n",
    "#  remove water vapor\n",
    "rad_noH2O = climlab.process_like(rad)\n",
    "rad_noH2O.specific_humidity *= 0.\n",
    "rad_noH2O.name = 'no H2O'\n",
    "#  remove both\n",
    "rad_noO3_noH2O = climlab.process_like(rad_noO3)\n",
    "rad_noO3_noH2O.specific_humidity *= 0.\n",
    "rad_noO3_noH2O.name = 'no O3, no H2O'\n",
    "\n",
    "#  put all models together in a list\n",
    "rad_models = [rad, rad_noO3, rad_noH2O, rad_noO3_noH2O]\n",
    "\n",
    "#  Loop through the models and integrate each one out to equilibrium\n",
    "for model in rad_models:\n",
    "    for n in range(100):\n",
    "        model.step_forward()\n",
    "    while (np.abs(model.ASR-model.OLR)>0.01):\n",
    "        model.step_forward()\n",
    "        \n",
    "# Plot all the results\n",
    "skew = make_skewT()\n",
    "for model in rad_models:\n",
    "    add_profile(skew, model)\n",
    "skew.ax.set_title('Pure radiative equilibrium', fontsize=18);"
   ]
  },
  {
   "cell_type": "markdown",
   "metadata": {},
   "source": [
    "As we have already discussed, none of these profiles really looks anything like the observations in the troposphere. This strongly suggests that **other physical processes** (aside from radiation) are important in determining the observed temperature profile.\n",
    "\n",
    "Plotting on the skew-T diagram makes it clear that **all the radiative equilibrium profiles are statically unstable near the surface**.\n",
    "\n",
    "So we're now going to **add a representation of the effects of convective mixing** to the single-column model."
   ]
  },
  {
   "cell_type": "markdown",
   "metadata": {},
   "source": [
    "____________\n",
    "\n",
    "## 2. Building a radiative-convection model in climlab\n",
    "____________"
   ]
  },
  {
   "cell_type": "markdown",
   "metadata": {},
   "source": [
    "To make a **Radiative-Convective model**, we just take a **radiation** model and couple it to a **convection** model!\n",
    "\n",
    "The \"convection\" model we're going to use here is available as\n",
    "\n",
    "```\n",
    "climlab.convection.ConvectiveAdjustment\n",
    "```\n",
    "\n",
    "It is a simple process that looks for **lapse rates exceeding a critical threshold** and performs an **instantaneous adjustment** that mixes temperatures to the critical lapse rate while conserving energy.\n",
    "\n",
    "This is a **parameterization** of the complex, rapid mixing processes that actually occur in an unstable air column!"
   ]
  },
  {
   "cell_type": "markdown",
   "metadata": {},
   "source": [
    "Here is some code to put this model together in `climlab`:"
   ]
  },
  {
   "cell_type": "code",
   "execution_count": null,
   "metadata": {},
   "outputs": [],
   "source": [
    "#  Make a model on same vertical domain as the GCM\n",
    "mystate = climlab.column_state(lev=Qglobal.lev, water_depth=2.5)\n",
    "#  Build the radiation model -- just like we already did\n",
    "rad = climlab.radiation.RRTMG(name='Radiation (net)',\n",
    "                              state=mystate, \n",
    "                              specific_humidity=Qglobal,\n",
    "                              timestep = climlab.constants.seconds_per_day,\n",
    "                              albedo = 0.25,  # surface albedo, tuned to give reasonable ASR for reference cloud-free model\n",
    "                             )\n",
    "#  Now create the convection model\n",
    "conv = climlab.convection.ConvectiveAdjustment(name='Convection',\n",
    "                                               state=mystate,\n",
    "                                               adj_lapse_rate=6.5, # this is the key parameter! We'll discuss below\n",
    "                                               timestep=rad.timestep,  # same timestep!\n",
    "                                              )\n",
    "#  Here is where we build the model by coupling together the two components\n",
    "rcm = climlab.couple([rad, conv], name='Radiative-Convective Model')"
   ]
  },
  {
   "cell_type": "code",
   "execution_count": null,
   "metadata": {},
   "outputs": [],
   "source": [
    "print(rcm)"
   ]
  },
  {
   "cell_type": "markdown",
   "metadata": {},
   "source": [
    "____________\n",
    "\n",
    "## 3. Adjustment toward radiative-convective equilibrium\n",
    "____________\n"
   ]
  },
  {
   "cell_type": "markdown",
   "metadata": {},
   "source": [
    "### Adjustment from isothermal initial conditions\n",
    "\n",
    "To get some insight into the interaction between radiation and convection, it's useful to look at the adjustment process from a non-equilibrium initial condition.\n",
    "\n",
    "**Let's make an animation!**\n",
    "\n",
    "*The code below is complicated but it is mostly for generating the animation. Focus on the results, not the code here.*"
   ]
  },
  {
   "cell_type": "code",
   "execution_count": null,
   "metadata": {
    "tags": [
     "hide_input"
    ]
   },
   "outputs": [],
   "source": [
    "#  Some imports needed to make and display animations\n",
    "\n",
    "def get_tendencies(model):\n",
    "    '''Pack all the subprocess tendencies into xarray.Datasets\n",
    "    and convert to units of K / day'''\n",
    "    tendencies_atm = xr.Dataset()\n",
    "    tendencies_sfc = xr.Dataset()\n",
    "    for name, proc, top_proc in climlab.utils.walk.walk_processes(model, topname='Total', topdown=False):\n",
    "        tendencies_atm[name] = proc.tendencies['Tatm'].to_xarray()\n",
    "        tendencies_sfc[name] = proc.tendencies['Ts'].to_xarray()\n",
    "    for tend in [tendencies_atm, tendencies_sfc]:\n",
    "        #  convert to K / day\n",
    "        tend *= climlab.constants.seconds_per_day\n",
    "    return tendencies_atm, tendencies_sfc\n",
    "\n",
    "def initial_figure(model):\n",
    "    fig = plt.figure(figsize=(14,6))\n",
    "    lines = []\n",
    "    \n",
    "    skew = SkewT(fig, subplot=(1,2,1), rotation=30)\n",
    "    #  plot the observations\n",
    "    skew.plot(Tglobal.level, Tglobal, color='black', linestyle='-', linewidth=2, label='Observations')    \n",
    "    lines.append(skew.plot(model.lev, model.Tatm - climlab.constants.tempCtoK, \n",
    "              linestyle='-', linewidth=2, color='C0', label='RC model (all gases)')[0])\n",
    "    skew.ax.legend()\n",
    "    skew.ax.set_ylim(1050, 10)\n",
    "    skew.ax.set_xlim(-60, 75)\n",
    "    # Add the relevant special lines\n",
    "    skew.plot_dry_adiabats(linewidth=0.5)\n",
    "    skew.plot_moist_adiabats(linewidth=0.5)\n",
    "    skew.ax.set_xlabel('Temperature ($^\\circ$C)', fontsize=14)\n",
    "    skew.ax.set_ylabel('Pressure (hPa)', fontsize=14)\n",
    "    lines.append(skew.plot(1000, model.Ts - climlab.constants.tempCtoK, 'o', \n",
    "                  markersize=8, color='C0', )[0])\n",
    "\n",
    "    ax = fig.add_subplot(1,2,2, sharey=skew.ax)\n",
    "    ax.set_ylim(1050, 10)\n",
    "    ax.set_xlim(-8,8)\n",
    "    ax.grid()\n",
    "    ax.set_xlabel('Temperature tendency ($^\\circ$C day$^{-1}$)', fontsize=14)\n",
    "\n",
    "    color_cycle=['g','b','r','y','k']\n",
    "    #color_cycle=['y', 'r', 'b', 'g', 'k']\n",
    "    tendencies_atm, tendencies_sfc = get_tendencies(rcm)\n",
    "    for i, name in enumerate(tendencies_atm.data_vars):\n",
    "        lines.append(ax.plot(tendencies_atm[name], model.lev, label=name, color=color_cycle[i])[0])\n",
    "    \n",
    "    # Add DOT for surface value\n",
    "    for i, name in enumerate(tendencies_sfc.data_vars):\n",
    "        lines.append(ax.plot(tendencies_sfc[name], 1000, 'o', markersize=8, color=color_cycle[i])[0])\n",
    "    ax.legend(loc='center right');\n",
    "    lines.append(skew.ax.text(-100, 50, 'Day {}'.format(int(model.time['days_elapsed'])), fontsize=12)) \n",
    "    return fig, lines\n",
    "\n",
    "def animate(day, model, lines):\n",
    "    lines[0].set_xdata(np.array(model.Tatm)-climlab.constants.tempCtoK)\n",
    "    lines[1].set_xdata(np.array(model.Ts)-climlab.constants.tempCtoK)\n",
    "    #lines[2].set_xdata(np.array(model.q)*1E3)\n",
    "    tendencies_atm, tendencies_sfc = get_tendencies(model)\n",
    "    for i, name in enumerate(tendencies_atm.data_vars):\n",
    "        lines[2+i].set_xdata(tendencies_atm[name])\n",
    "    for i, name in enumerate(tendencies_sfc.data_vars):\n",
    "        lines[2+5+i].set_xdata(tendencies_sfc[name])\n",
    "    lines[-1].set_text('Day {}'.format(int(model.time['days_elapsed'])))\n",
    "    # This is kind of a hack, but without it the initial frame doesn't appear\n",
    "    if day != 0:\n",
    "        model.step_forward()\n",
    "    return lines"
   ]
  },
  {
   "cell_type": "markdown",
   "metadata": {},
   "source": [
    "We are going to start from an **isothermal** initial state, and let the model drift toward equilibrium."
   ]
  },
  {
   "cell_type": "code",
   "execution_count": null,
   "metadata": {},
   "outputs": [],
   "source": [
    "#  Start from isothermal state\n",
    "rcm.state.Tatm[:] = rcm.state.Ts\n",
    "#  Call the diagnostics once for initial plotting\n",
    "rcm.compute_diagnostics()\n",
    "#  Plot initial data\n",
    "fig, lines = initial_figure(rcm)"
   ]
  },
  {
   "cell_type": "markdown",
   "metadata": {},
   "source": [
    "Notice several things here:\n",
    "\n",
    "- The initial profile is isothermal at 15ºC. This is an arbitrary choice we made.\n",
    "- The initial tendency from **convection** is zero everywhere. Why?\n",
    "- Shortwave radiation tends to **warm everywhere**. Why?\n",
    "- Longwave radiation tends to **cool everywhere**. The cooling is very strong especially aloft. Why?\n",
    "- The total tendency (black) is warming at the surface and cooling in the atmosphere. What should happen next? What are the implications for convective instability?"
   ]
  },
  {
   "cell_type": "markdown",
   "metadata": {},
   "source": [
    "Recall from TPA that solar radiative heating of the stratosphere is mainly from absorption of ultraviolet (UV) and visible radiation by ozone, along with contributions due to the near-infrared absorption by carbon dioxide and water vapour, while the long-wave process consists of absorption and emission of infrared radiation, principally by carbon dioxide, methane, nitrous oxide, ozone and water vapour."
   ]
  },
  {
   "cell_type": "markdown",
   "metadata": {},
   "source": [
    "Now let's look at how the model actually adjusts:"
   ]
  },
  {
   "cell_type": "code",
   "execution_count": null,
   "metadata": {},
   "outputs": [],
   "source": [
    "#  This is where we make a loop over many timesteps and create an animation in the notebook\n",
    "ani = animation.FuncAnimation(fig, animate, 150, fargs=(rcm, lines))\n",
    "HTML(ani.to_html5_video())"
   ]
  },
  {
   "cell_type": "markdown",
   "metadata": {},
   "source": [
    "- What is the timescale of the adjustment in the stratosphere?\n",
    "\n",
    "- Which terms are dominant in the stratosphere?\n",
    "\n",
    "- How do you know that the final state is in equilibrium?\n",
    "\n",
    "- In equilibrium are the signs of the radiative and convective heating terms as you expect?"
   ]
  },
  {
   "cell_type": "markdown",
   "metadata": {},
   "source": [
    "### What if instead we start out from pure Radiative equilibrium?\n",
    "\n",
    "This will represent the effect of a sudden \"switching on\" of convective processes."
   ]
  },
  {
   "cell_type": "code",
   "execution_count": null,
   "metadata": {},
   "outputs": [],
   "source": [
    "#  Here we take JUST THE RADIATION COMPONENT of the full model and run it out to (near) equilibrium\n",
    "#  This is just to get the initial condition for our animation\n",
    "for n in range(1000):\n",
    "    rcm.subprocess['Radiation (net)'].step_forward()"
   ]
  },
  {
   "cell_type": "code",
   "execution_count": null,
   "metadata": {},
   "outputs": [],
   "source": [
    "#  Call the diagnostics once for initial plotting\n",
    "rcm.compute_diagnostics()\n",
    "#  Plot initial data\n",
    "fig, lines = initial_figure(rcm)"
   ]
  },
  {
   "cell_type": "code",
   "execution_count": null,
   "metadata": {},
   "outputs": [],
   "source": [
    "#  This is where we make a loop over many timesteps and create an animation in the notebook\n",
    "ani = animation.FuncAnimation(fig, animate, 100, fargs=(rcm, lines))\n",
    "HTML(ani.to_html5_video())"
   ]
  },
  {
   "cell_type": "markdown",
   "metadata": {},
   "source": [
    "This animation is not as exciting because the **instability is destroyed immediately** in the first timestep!\n",
    "\n",
    "That is because the `ConvectiveAdjustment` process operates instantaneously whenever there is any instability. It is a parameterization taking advantage of the fact that, in nature, **convection processes are fast compared to radiative processes**.\n",
    "\n",
    "But notice that the final state is pretty much the same as in the first animation.\n",
    "\n",
    "**The column tends toward the same equilibrium state regardless of where it starts.**"
   ]
  },
  {
   "cell_type": "markdown",
   "metadata": {},
   "source": [
    "____________\n",
    "\n",
    "## 4. Compare Radiative- and Radiative-Convective Equilibrium\n",
    "____________"
   ]
  },
  {
   "cell_type": "markdown",
   "metadata": {},
   "source": [
    "Let's repeat our experiment with removing certain absorbing gases from the model, but use the Radiative-Convective model."
   ]
  },
  {
   "cell_type": "code",
   "execution_count": null,
   "metadata": {
    "tags": [
     "hide_input"
    ]
   },
   "outputs": [],
   "source": [
    "#  Make a model on same vertical domain as the GCM\n",
    "mystate = climlab.column_state(lev=Qglobal.lev, water_depth=2.5)\n",
    "\n",
    "rad = climlab.radiation.RRTMG(name='all gases',\n",
    "                              state=mystate, \n",
    "                              specific_humidity=Qglobal,\n",
    "                              timestep = climlab.constants.seconds_per_day,\n",
    "                              albedo = 0.25,  # tuned to give reasonable ASR for reference cloud-free model\n",
    "                             )\n",
    "#  remove ozone\n",
    "rad_noO3 = climlab.process_like(rad)\n",
    "rad_noO3.absorber_vmr['O3'] *= 0.\n",
    "rad_noO3.name = 'no O3'\n",
    "\n",
    "#  remove water vapor\n",
    "rad_noH2O = climlab.process_like(rad)\n",
    "rad_noH2O.specific_humidity *= 0.\n",
    "rad_noH2O.name = 'no H2O'\n",
    "\n",
    "#  remove both\n",
    "rad_noO3_noH2O = climlab.process_like(rad_noO3)\n",
    "rad_noO3_noH2O.specific_humidity *= 0.\n",
    "rad_noO3_noH2O.name = 'no O3, no H2O'\n",
    "\n",
    "#  put all models together in a list\n",
    "rad_models = [rad, rad_noO3, rad_noH2O, rad_noO3_noH2O]\n",
    "\n",
    "rc_models = []\n",
    "for r in rad_models:\n",
    "    newrad = climlab.process_like(r)\n",
    "    conv = climlab.convection.ConvectiveAdjustment(name='Convective Adjustment',\n",
    "                                               state=newrad.state,\n",
    "                                               adj_lapse_rate=6.5,  # the key parameter in the convection model!\n",
    "                                               timestep=newrad.timestep,)\n",
    "    rc = newrad + conv\n",
    "    rc.name = newrad.name\n",
    "    rc_models.append(rc)\n",
    "\n",
    "for model in rad_models:\n",
    "    for n in range(100):\n",
    "        model.step_forward()\n",
    "    while (np.abs(model.ASR-model.OLR)>0.01):\n",
    "        model.step_forward()    \n",
    "    \n",
    "for model in rc_models:\n",
    "    for n in range(100):\n",
    "        model.step_forward()\n",
    "    while (np.abs(model.ASR-model.OLR)>0.01):\n",
    "        model.step_forward()"
   ]
  },
  {
   "cell_type": "code",
   "execution_count": null,
   "metadata": {
    "tags": [
     "hide_input"
    ]
   },
   "outputs": [],
   "source": [
    "skew = make_skewT()\n",
    "for model in rad_models:\n",
    "    add_profile(skew, model)\n",
    "skew.ax.set_title('Pure radiative equilibrium', fontsize=18);"
   ]
  },
  {
   "cell_type": "code",
   "execution_count": null,
   "metadata": {
    "tags": [
     "hide_input"
    ]
   },
   "outputs": [],
   "source": [
    "skew2 = make_skewT()\n",
    "for model in rc_models:\n",
    "    add_profile(skew2, model)\n",
    "skew2.ax.set_title('Radiative-convective equilibrium', fontsize=18);"
   ]
  },
  {
   "cell_type": "markdown",
   "metadata": {},
   "source": [
    "Lots to discuss here.\n",
    "\n",
    "The overall message is that equilibrium temperature profile results from a competition between radiation and convection. Essentially:\n",
    "\n",
    "- Radiation is always trying to push temperatures toward radiative equilibrium, which means\n",
    "    - warm surface\n",
    "    - cold troposphere\n",
    "- Convection cools the surface and warms the troposphere\n",
    "- The troposphere can be defined here as the layer over which convection is active.\n",
    "- This is true whether or not we have the radiative effects of water vapor.\n",
    "- When we remove the water vapor (and its warming greenhouse effect), the surface temperature becomes much colder and the troposphere is much shallower -- but it is still there."
   ]
  },
  {
   "cell_type": "markdown",
   "metadata": {},
   "source": [
    "____________\n",
    "\n",
    "## 5. The role of the critical lapse rate\n",
    "____________"
   ]
  },
  {
   "cell_type": "markdown",
   "metadata": {},
   "source": [
    "### What have we done above\n",
    "\n",
    "These calculations all used a critical lapse rate of 6.5 K / km, which is a reasonable approximation to observations.\n",
    "\n",
    "We set this with the input argument\n",
    "```\n",
    "adj_lapse_rate\n",
    "```\n",
    "to the `ConvectiveAdjustment` process.\n",
    "\n",
    "The idea is that we are trying to represent the statistical effects of many episodes of moist convection.\n",
    "\n",
    "An air column that is perfectly neutral to moist instability would follow the blue **moist adiabats** on the skew-T diagrams.\n",
    "\n",
    "We can force the model to behave this way by setting\n",
    "```\n",
    "adj_lapse_rate = 'pseudoadiabat'\n",
    "```\n",
    "\n",
    "However the real atmosphere, on average, does not exactly follow these adiabats for several reasons:\n",
    "\n",
    "- the slope of the moist adiabat depends strongly on temperature (as we can see on these diagrams)\n",
    "- We are looking at temperatures averaged over the whole planet, including regions that are warm and moist, warm and dry, and cold.\n",
    "- Heat fluxes by mid-latitude eddies play an important role in **stabilizing** the extra-tropical atmosphere, and in fact simple RCE is a poor model for the extratropics balance.\n",
    "\n",
    "So here we sweep all this complexity under the rug and just choose a single critical lapse rate for our convective adjustment model.\n",
    "\n",
    "But this is a **parameter** that is uncertain and could be interesting to explore."
   ]
  },
  {
   "cell_type": "markdown",
   "metadata": {},
   "source": [
    "### Python exercise: change the critical lapse rate\n",
    "\n",
    "Repeat the whole series of calculations for the different combinations of absorbing gases above, but with different critical lapse rates:\n",
    "\n",
    "- `adj_lapse_rate = 9.8` (in K/km, the dry adiabatic lapse rate, suitable for an atmosphere where condensation does not impact the buoyancy of air parcels)\n",
    "- `adj_lapse_rate = 'pseudoadiabat'` (more suitable for the tropical atmosphere)"
   ]
  },
  {
   "cell_type": "markdown",
   "metadata": {},
   "source": [
    "____________\n",
    "\n",
    "## 6. Summary of radiative-convection equilibrium results\n",
    "____________\n",
    "\n",
    "- We noted that pure radiative equilibrium is **not** a good model for the observed temperature profile.\n",
    "- An air column in radiative equilibrium has a **warm surface** and **cold troposphere**.\n",
    "- In reality this would tend to become **unstable** and cause vertical mixing.\n",
    "\n",
    "To account for this shortcoming of the radiation model, we coupled our single-column radiation model (using the `RRTMG` radiation model) to a simple **convection** model.\n",
    "\n",
    "- The `ConvectiveAdjustment` model instantly mixes out any profiles where the **lapse rate** exceeds some critical threshold value.\n",
    "- This critical lapse rate is the tunable parameter in our combined **Radiative-Convective Model** or RCM.\n",
    "- Using a value of 6.5 K / km and realistic gas profiles gives a reasonable (not perfect) fit to the observed air temperatures.\n",
    "- The **RCM represents the \"tug-of-war\"** between **radiation** (trying to warm the surface and cool the troposphere) and **convection** (cool the surface and warm the troposphere).\n",
    "- The convectively mixed layer extends up to near the top of the troposphere.\n",
    "\n",
    "Our experiments with removing certain absorbing gases show something interesting: the height of the tropopause (boundary bewteen troposphere and stratosphere) changes when we remove absorbers. Warmer columns also appear to have higher tropopause.\n",
    "\n",
    "Now that we know how to build and use this RCM, we'll be able to use to study some climate change processes in more detail."
   ]
  },
  {
   "cell_type": "markdown",
   "metadata": {
    "slideshow": {
     "slide_type": "skip"
    }
   },
   "source": [
    "____________\n",
    "\n",
    "## Credits\n",
    "\n",
    "This notebook is part of [The Climate Laboratory](https://brian-rose.github.io/ClimateLaboratoryBook), an open-source textbook developed and maintained by [Brian E. J. Rose](http://www.atmos.albany.edu/facstaff/brose/index.html), University at Albany.\n",
    "\n",
    "It is licensed for free and open consumption under the\n",
    "[Creative Commons Attribution 4.0 International (CC BY 4.0)](https://creativecommons.org/licenses/by/4.0/) license.\n",
    "\n",
    "Development of these notes and the [climlab software](https://github.com/brian-rose/climlab) is partially supported by the National Science Foundation under award AGS-1455071 to Brian Rose. Any opinions, findings, conclusions or recommendations expressed here are mine and do not necessarily reflect the views of the National Science Foundation.\n",
    "____________"
   ]
  },
  {
   "cell_type": "code",
   "execution_count": null,
   "metadata": {},
   "outputs": [],
   "source": []
  }
 ],
 "metadata": {
  "kernelspec": {
   "display_name": "Python 3 (ipykernel)",
   "language": "python",
   "name": "python3"
  },
  "language_info": {
   "codemirror_mode": {
    "name": "ipython",
    "version": 3
   },
   "file_extension": ".py",
   "mimetype": "text/x-python",
   "name": "python",
   "nbconvert_exporter": "python",
   "pygments_lexer": "ipython3",
   "version": "3.10.13"
  }
 },
 "nbformat": 4,
 "nbformat_minor": 4
}
