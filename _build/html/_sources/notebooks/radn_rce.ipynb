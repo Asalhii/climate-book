{
 "cells": [
  {
   "cell_type": "markdown",
   "metadata": {
    "slideshow": {
     "slide_type": "slide"
    }
   },
   "source": [
    "# Radiative-Convective Equilibrium\n",
    "\n",
    "This notebook is part of [The Climate Laboratory](https://brian-rose.github.io/ClimateLaboratoryBook) by [Brian E. J. Rose](http://www.atmos.albany.edu/facstaff/brose/index.html), University at Albany."
   ]
  },
  {
   "cell_type": "markdown",
   "metadata": {},
   "source": [
    "\n",
    "\n",
    "## 1. Recap of radiative equilibrium results\n",
    "____________\n",
    "\n",
    "The following code block reproduces the results of the notebook on radiative equilibrium.\n",
    "\n",
    "*For Python details, click to expand the code*"
   ]
  },
  {
   "cell_type": "code",
   "execution_count": 3,
   "metadata": {
    "tags": [
     "hide_input"
    ]
   },
   "outputs": [],
   "source": [
    "# packages we need.\n",
    "%matplotlib inline\n",
    "import numpy as np\n",
    "import matplotlib.pyplot as plt\n",
    "import xarray as xr\n",
    "import climlab\n",
    "from netCDF4 import Dataset\n",
    "from cdo import Cdo\n",
    "from metpy.plots import SkewT\n",
    "from IPython.display import HTML\n",
    "from matplotlib import animation\n"
   ]
  },
  {
   "cell_type": "code",
   "execution_count": 4,
   "metadata": {},
   "outputs": [
    {
     "name": "stderr",
     "output_type": "stream",
     "text": [
      "/Users/tompkins/miniconda3/envs/climlabfix/lib/python3.10/site-packages/xarray/coding/times.py:167: SerializationWarning: Ambiguous reference date string: 1-1-1 00:00:0.0. The first value is assumed to be the year hence will be padded with zeros to remove the ambiguity (the padded reference date string is: 0001-1-1 00:00:0.0). To remove this message, remove the ambiguity by padding your reference date strings with zeros.\n",
      "  warnings.warn(warning_msg, SerializationWarning)\n"
     ]
    }
   ],
   "source": [
    "#  get the annual mean air temperature\n",
    "ncep_url = \"http://www.esrl.noaa.gov/psd/thredds/dodsC/Datasets/ncep.reanalysis.derived/\"\n",
    "ncep_air=xr.open_dataset( ncep_url + \"pressure/air.mon.1981-2010.ltm.nc\", use_cftime=True)\n",
    "###ncep_air=xr.open_dataset(ncep_url,use_cftime=True)\n",
    "\n",
    "#  Take global, annual average \n",
    "coslat = np.cos(np.deg2rad(ncep_air.lat))\n",
    "weight = coslat / coslat.mean(dim='lat')\n",
    "Tglobal = (ncep_air.air * weight).mean(dim=('lat','lon','time'))\n"
   ]
  },
  {
   "cell_type": "code",
   "execution_count": 5,
   "metadata": {},
   "outputs": [],
   "source": [
    "#  Resuable function to plot the temperature data on a Skew-T chart\n",
    "def make_skewT():\n",
    "    fig = plt.figure(figsize=(9, 9))\n",
    "    skew = SkewT(fig, rotation=30)\n",
    "    skew.plot(Tglobal.level, Tglobal, color='black', linestyle='-', linewidth=2, label='Observations')\n",
    "    skew.ax.set_ylim(1050, 10)\n",
    "    skew.ax.set_xlim(-90, 45)\n",
    "    # Add the relevant special lines\n",
    "    skew.plot_dry_adiabats(linewidth=0.5)\n",
    "    skew.plot_moist_adiabats(linewidth=0.5)\n",
    "    #skew.plot_mixing_lines()\n",
    "    skew.ax.legend()\n",
    "    skew.ax.set_xlabel('Temperature (degC)', fontsize=14)\n",
    "    skew.ax.set_ylabel('Pressure (hPa)', fontsize=14)\n",
    "    return skew\n",
    "#  and a function to add extra profiles to this chart\n",
    "def add_profile(skew, model, linestyle='-', color=None):\n",
    "    line = skew.plot(model.lev, model.Tatm - climlab.constants.tempCtoK,\n",
    "             label=model.name, linewidth=2)[0]\n",
    "    skew.plot(1000, model.Ts - climlab.constants.tempCtoK, 'o', \n",
    "              markersize=8, color=line.get_color())\n",
    "    skew.ax.legend()\n"
   ]
  },
  {
   "cell_type": "code",
   "execution_count": 7,
   "metadata": {},
   "outputs": [
    {
     "name": "stdout",
     "output_type": "stream",
     "text": [
      "<xarray.DataArray (lev: 26)>\n",
      "array([2.16104904e-06, 2.15879387e-06, 2.15121262e-06, 2.13630949e-06,\n",
      "       2.12163684e-06, 2.11168002e-06, 2.09396914e-06, 2.10589390e-06,\n",
      "       2.42166155e-06, 3.12595653e-06, 5.01369691e-06, 9.60746488e-06,\n",
      "       2.08907654e-05, 4.78823747e-05, 1.05492451e-04, 2.11889055e-04,\n",
      "       3.94176751e-04, 7.10734458e-04, 1.34192099e-03, 2.05153261e-03,\n",
      "       3.16844784e-03, 4.96883408e-03, 6.62218037e-03, 8.38350326e-03,\n",
      "       9.38620899e-03, 9.65030544e-03])\n",
      "Coordinates:\n",
      "  * lev      (lev) float64 3.545 7.389 13.97 23.94 ... 867.2 929.6 970.6 992.6\n"
     ]
    }
   ],
   "source": [
    "# get the humidity\n",
    "\n",
    "# NEED TO HAVE RUN RADEQ NOTEBOOK FIRST TO HAVE QV.NC LOCALLY On your disk:\n",
    "era5=False\n",
    "\n",
    "if era5:\n",
    "    cdo = Cdo()\n",
    "    Qglobal2=cdo.fldmean(input=\"qv.nc\")\n",
    "    qvfile=Dataset(Qglobal2)\n",
    "    Qglobal=qvfile.variables[\"q\"][:].flatten()\n",
    "    Qglobal.lev=qvfile.variables[\"level\"][:]\n",
    "   \n",
    "\n"
   ]
  },
  {
   "cell_type": "code",
   "execution_count": null,
   "metadata": {},
   "outputs": [],
   "source": [
    "#cesm_data_path = \"http://thredds.atmos.albany.edu:8080/thredds/dodsC/CESMA/\"\n",
    "#atm_control = xr.open_dataset(cesm_data_path + \"cpl_1850_f19/concatenated/cpl_1850_f19.cam.h0.nc\")\n",
    "\n",
    "# Take global, annual average of the specific humidity\n",
    "#weight_factor = atm_control.gw / atm_control.gw.mean(dim='lat')\n",
    "#Qglobal = (atm_control.Q * weight_factor).mean(dim=('lat','lon','time'))\n"
   ]
  },
  {
   "cell_type": "code",
   "execution_count": 8,
   "metadata": {},
   "outputs": [
    {
     "ename": "TypeError",
     "evalue": "invalid indexer array, does not have integer dtype: array(None, dtype=object)",
     "output_type": "error",
     "traceback": [
      "\u001b[0;31m---------------------------------------------------------------------------\u001b[0m",
      "\u001b[0;31mTypeError\u001b[0m                                 Traceback (most recent call last)",
      "Cell \u001b[0;32mIn[8], line 44\u001b[0m\n\u001b[1;32m     42\u001b[0m \u001b[38;5;28;01mfor\u001b[39;00m model \u001b[38;5;129;01min\u001b[39;00m rad_models:\n\u001b[1;32m     43\u001b[0m     \u001b[38;5;28;01mfor\u001b[39;00m n \u001b[38;5;129;01min\u001b[39;00m \u001b[38;5;28mrange\u001b[39m(\u001b[38;5;241m100\u001b[39m):\n\u001b[0;32m---> 44\u001b[0m         \u001b[43mmodel\u001b[49m\u001b[38;5;241;43m.\u001b[39;49m\u001b[43mstep_forward\u001b[49m\u001b[43m(\u001b[49m\u001b[43m)\u001b[49m\n\u001b[1;32m     45\u001b[0m     \u001b[38;5;28;01mwhile\u001b[39;00m (np\u001b[38;5;241m.\u001b[39mabs(model\u001b[38;5;241m.\u001b[39mASR\u001b[38;5;241m-\u001b[39mmodel\u001b[38;5;241m.\u001b[39mOLR)\u001b[38;5;241m>\u001b[39m\u001b[38;5;241m0.01\u001b[39m):\n\u001b[1;32m     46\u001b[0m         model\u001b[38;5;241m.\u001b[39mstep_forward()\n",
      "File \u001b[0;32m~/miniconda3/envs/climlabfix/lib/python3.10/site-packages/climlab/process/time_dependent_process.py:333\u001b[0m, in \u001b[0;36mTimeDependentProcess.step_forward\u001b[0;34m(self)\u001b[0m\n\u001b[1;32m    307\u001b[0m \u001b[38;5;28;01mdef\u001b[39;00m \u001b[38;5;21mstep_forward\u001b[39m(\u001b[38;5;28mself\u001b[39m):\n\u001b[1;32m    308\u001b[0m \u001b[38;5;250m    \u001b[39m\u001b[38;5;124;03m\"\"\"Updates state variables with computed tendencies.\u001b[39;00m\n\u001b[1;32m    309\u001b[0m \n\u001b[1;32m    310\u001b[0m \u001b[38;5;124;03m    Calls the :func:`compute` method to get current tendencies for all\u001b[39;00m\n\u001b[0;32m   (...)\u001b[0m\n\u001b[1;32m    331\u001b[0m \n\u001b[1;32m    332\u001b[0m \u001b[38;5;124;03m    \"\"\"\u001b[39;00m\n\u001b[0;32m--> 333\u001b[0m     tenddict \u001b[38;5;241m=\u001b[39m \u001b[38;5;28;43mself\u001b[39;49m\u001b[38;5;241;43m.\u001b[39;49m\u001b[43mcompute\u001b[49m\u001b[43m(\u001b[49m\u001b[43m)\u001b[49m\n\u001b[1;32m    334\u001b[0m     \u001b[38;5;66;03m#  Total tendency is applied as an explicit forward timestep\u001b[39;00m\n\u001b[1;32m    335\u001b[0m     \u001b[38;5;66;03m# (already accounting properly for order of operations in compute() )\u001b[39;00m\n\u001b[1;32m    336\u001b[0m     \u001b[38;5;28;01mfor\u001b[39;00m varname, tend \u001b[38;5;129;01min\u001b[39;00m tenddict\u001b[38;5;241m.\u001b[39mitems():\n",
      "File \u001b[0;32m~/miniconda3/envs/climlabfix/lib/python3.10/site-packages/climlab/process/time_dependent_process.py:213\u001b[0m, in \u001b[0;36mTimeDependentProcess.compute\u001b[0;34m(self)\u001b[0m\n\u001b[1;32m    211\u001b[0m tendencies \u001b[38;5;241m=\u001b[39m {}\n\u001b[1;32m    212\u001b[0m ignored \u001b[38;5;241m=\u001b[39m \u001b[38;5;28mself\u001b[39m\u001b[38;5;241m.\u001b[39m_compute_type(\u001b[38;5;124m'\u001b[39m\u001b[38;5;124mdiagnostic\u001b[39m\u001b[38;5;124m'\u001b[39m)\n\u001b[0;32m--> 213\u001b[0m tendencies[\u001b[38;5;124m'\u001b[39m\u001b[38;5;124mexplicit\u001b[39m\u001b[38;5;124m'\u001b[39m] \u001b[38;5;241m=\u001b[39m \u001b[38;5;28;43mself\u001b[39;49m\u001b[38;5;241;43m.\u001b[39;49m\u001b[43m_compute_type\u001b[49m\u001b[43m(\u001b[49m\u001b[38;5;124;43m'\u001b[39;49m\u001b[38;5;124;43mexplicit\u001b[39;49m\u001b[38;5;124;43m'\u001b[39;49m\u001b[43m)\u001b[49m\n\u001b[1;32m    214\u001b[0m \u001b[38;5;66;03m#  Tendencies due to implicit and adjustment processes need to be\u001b[39;00m\n\u001b[1;32m    215\u001b[0m \u001b[38;5;66;03m#  calculated from a state that is already adjusted after explicit stuff\u001b[39;00m\n\u001b[1;32m    216\u001b[0m \u001b[38;5;66;03m#  So apply the tendencies temporarily and then remove them again\u001b[39;00m\n\u001b[1;32m    217\u001b[0m \u001b[38;5;28;01mfor\u001b[39;00m name, var \u001b[38;5;129;01min\u001b[39;00m \u001b[38;5;28mself\u001b[39m\u001b[38;5;241m.\u001b[39mstate\u001b[38;5;241m.\u001b[39mitems():\n",
      "File \u001b[0;32m~/miniconda3/envs/climlabfix/lib/python3.10/site-packages/climlab/process/time_dependent_process.py:261\u001b[0m, in \u001b[0;36mTimeDependentProcess._compute_type\u001b[0;34m(self, proctype)\u001b[0m\n\u001b[1;32m    259\u001b[0m \u001b[38;5;28;01mif\u001b[39;00m \u001b[38;5;28mself\u001b[39m\u001b[38;5;241m.\u001b[39mtime[\u001b[38;5;124m'\u001b[39m\u001b[38;5;124msteps\u001b[39m\u001b[38;5;124m'\u001b[39m] \u001b[38;5;241m%\u001b[39m step_ratio \u001b[38;5;241m==\u001b[39m \u001b[38;5;241m0\u001b[39m:\n\u001b[1;32m    260\u001b[0m     proc\u001b[38;5;241m.\u001b[39mtime[\u001b[38;5;124m'\u001b[39m\u001b[38;5;124mactive_now\u001b[39m\u001b[38;5;124m'\u001b[39m] \u001b[38;5;241m=\u001b[39m \u001b[38;5;28;01mTrue\u001b[39;00m\n\u001b[0;32m--> 261\u001b[0m     tenddict \u001b[38;5;241m=\u001b[39m \u001b[43mproc\u001b[49m\u001b[38;5;241;43m.\u001b[39;49m\u001b[43mcompute\u001b[49m\u001b[43m(\u001b[49m\u001b[43m)\u001b[49m\n\u001b[1;32m    262\u001b[0m \u001b[38;5;28;01melse\u001b[39;00m:\n\u001b[1;32m    263\u001b[0m     \u001b[38;5;66;03m# proc.tendencies is unchanged from last subprocess timestep if we didn't recompute it above\u001b[39;00m\n\u001b[1;32m    264\u001b[0m     proc\u001b[38;5;241m.\u001b[39mtime[\u001b[38;5;124m'\u001b[39m\u001b[38;5;124mactive_now\u001b[39m\u001b[38;5;124m'\u001b[39m] \u001b[38;5;241m=\u001b[39m \u001b[38;5;28;01mFalse\u001b[39;00m\n",
      "File \u001b[0;32m~/miniconda3/envs/climlabfix/lib/python3.10/site-packages/climlab/process/time_dependent_process.py:235\u001b[0m, in \u001b[0;36mTimeDependentProcess.compute\u001b[0;34m(self)\u001b[0m\n\u001b[1;32m    233\u001b[0m         \u001b[38;5;28mself\u001b[39m\u001b[38;5;241m.\u001b[39mtendencies[varname] \u001b[38;5;241m+\u001b[39m\u001b[38;5;241m=\u001b[39m tend\n\u001b[1;32m    234\u001b[0m \u001b[38;5;66;03m# Finally compute my own tendencies, if any\u001b[39;00m\n\u001b[0;32m--> 235\u001b[0m self_tend \u001b[38;5;241m=\u001b[39m \u001b[38;5;28;43mself\u001b[39;49m\u001b[38;5;241;43m.\u001b[39;49m\u001b[43m_compute\u001b[49m\u001b[43m(\u001b[49m\u001b[43m)\u001b[49m\n\u001b[1;32m    236\u001b[0m \u001b[38;5;66;03m#  Adjustment processes _compute method returns absolute adjustment\u001b[39;00m\n\u001b[1;32m    237\u001b[0m \u001b[38;5;66;03m#  Needs to be converted to rate of change\u001b[39;00m\n\u001b[1;32m    238\u001b[0m \u001b[38;5;28;01mif\u001b[39;00m \u001b[38;5;28mself\u001b[39m\u001b[38;5;241m.\u001b[39mtime_type \u001b[38;5;241m==\u001b[39m \u001b[38;5;124m'\u001b[39m\u001b[38;5;124madjustment\u001b[39m\u001b[38;5;124m'\u001b[39m:\n",
      "File \u001b[0;32m~/miniconda3/envs/climlabfix/lib/python3.10/site-packages/climlab/process/energy_budget.py:72\u001b[0m, in \u001b[0;36mEnergyBudget._compute\u001b[0;34m(self)\u001b[0m\n\u001b[1;32m     71\u001b[0m \u001b[38;5;28;01mdef\u001b[39;00m \u001b[38;5;21m_compute\u001b[39m(\u001b[38;5;28mself\u001b[39m):\n\u001b[0;32m---> 72\u001b[0m     tendencies \u001b[38;5;241m=\u001b[39m \u001b[38;5;28;43mself\u001b[39;49m\u001b[38;5;241;43m.\u001b[39;49m\u001b[43m_temperature_tendencies\u001b[49m\u001b[43m(\u001b[49m\u001b[43m)\u001b[49m\n\u001b[1;32m     73\u001b[0m     \u001b[38;5;28;01mreturn\u001b[39;00m tendencies\n",
      "File \u001b[0;32m~/miniconda3/envs/climlabfix/lib/python3.10/site-packages/climlab/process/energy_budget.py:60\u001b[0m, in \u001b[0;36mEnergyBudget._temperature_tendencies\u001b[0;34m(self)\u001b[0m\n\u001b[1;32m     59\u001b[0m \u001b[38;5;28;01mdef\u001b[39;00m \u001b[38;5;21m_temperature_tendencies\u001b[39m(\u001b[38;5;28mself\u001b[39m):\n\u001b[0;32m---> 60\u001b[0m     \u001b[38;5;28;43mself\u001b[39;49m\u001b[38;5;241;43m.\u001b[39;49m\u001b[43m_compute_heating_rates\u001b[49m\u001b[43m(\u001b[49m\u001b[43m)\u001b[49m\n\u001b[1;32m     61\u001b[0m     tendencies \u001b[38;5;241m=\u001b[39m {}\n\u001b[1;32m     62\u001b[0m     \u001b[38;5;28;01mfor\u001b[39;00m varname, value \u001b[38;5;129;01min\u001b[39;00m \u001b[38;5;28mself\u001b[39m\u001b[38;5;241m.\u001b[39mstate\u001b[38;5;241m.\u001b[39mitems():\n\u001b[1;32m     63\u001b[0m         \u001b[38;5;66;03m#C = self.state_domain[varname].heat_capacity\u001b[39;00m\n",
      "File \u001b[0;32m~/miniconda3/envs/climlabfix/lib/python3.10/site-packages/climlab/radiation/rrtm/rrtmg_sw.py:194\u001b[0m, in \u001b[0;36mRRTMG_SW._compute_heating_rates\u001b[0;34m(self)\u001b[0m\n\u001b[1;32m    184\u001b[0m \u001b[38;5;28;01mdef\u001b[39;00m \u001b[38;5;21m_compute_heating_rates\u001b[39m(\u001b[38;5;28mself\u001b[39m):\n\u001b[1;32m    185\u001b[0m \u001b[38;5;250m    \u001b[39m\u001b[38;5;124;03m'''Prepare arguments and call the RRTGM_SW driver to calculate\u001b[39;00m\n\u001b[1;32m    186\u001b[0m \u001b[38;5;124;03m    radiative fluxes and heating rates'''\u001b[39;00m\n\u001b[1;32m    187\u001b[0m     (ncol, nlay, icld, iaer, permuteseed, irng,\n\u001b[1;32m    188\u001b[0m      play, plev, tlay, tlev, tsfc,\n\u001b[1;32m    189\u001b[0m      h2ovmr, o3vmr, co2vmr, ch4vmr, n2ovmr, o2vmr,\n\u001b[1;32m    190\u001b[0m      aldif, aldir, asdif, asdir, coszen, adjes, dyofyr, scon, isolvar,\n\u001b[1;32m    191\u001b[0m      indsolvar, bndsolvar, solcycfrac,\n\u001b[1;32m    192\u001b[0m      inflgsw, iceflgsw, liqflgsw,\n\u001b[1;32m    193\u001b[0m      cldfrac, ciwp, clwp, reic, relq, tauc, ssac, asmc, fsfc,\n\u001b[0;32m--> 194\u001b[0m      tauaer, ssaaer, asmaer, ecaer,) \u001b[38;5;241m=\u001b[39m \u001b[38;5;28;43mself\u001b[39;49m\u001b[38;5;241;43m.\u001b[39;49m\u001b[43m_prepare_sw_arguments\u001b[49m\u001b[43m(\u001b[49m\u001b[43m)\u001b[49m\n\u001b[1;32m    195\u001b[0m     \u001b[38;5;28;01mif\u001b[39;00m icld \u001b[38;5;241m==\u001b[39m \u001b[38;5;241m0\u001b[39m:  \u001b[38;5;66;03m# clear-sky only\u001b[39;00m\n\u001b[1;32m    196\u001b[0m         cldfmcl \u001b[38;5;241m=\u001b[39m np\u001b[38;5;241m.\u001b[39mzeros((ngptsw,ncol,nlay))\n",
      "File \u001b[0;32m~/miniconda3/envs/climlabfix/lib/python3.10/site-packages/climlab/radiation/rrtm/rrtmg_sw.py:144\u001b[0m, in \u001b[0;36mRRTMG_SW._prepare_sw_arguments\u001b[0;34m(self)\u001b[0m\n\u001b[1;32m    138\u001b[0m indsolvar \u001b[38;5;241m=\u001b[39m \u001b[38;5;28mself\u001b[39m\u001b[38;5;241m.\u001b[39mindsolvar\n\u001b[1;32m    139\u001b[0m bndsolvar \u001b[38;5;241m=\u001b[39m \u001b[38;5;28mself\u001b[39m\u001b[38;5;241m.\u001b[39mbndsolvar\n\u001b[1;32m    141\u001b[0m (ncol, nlay, play, plev, tlay, tlev, tsfc,\n\u001b[1;32m    142\u001b[0m h2ovmr, o3vmr, co2vmr, ch4vmr, n2ovmr, o2vmr, cfc11vmr,\n\u001b[1;32m    143\u001b[0m cfc12vmr, cfc12vmr, cfc22vmr, ccl4vmr,\n\u001b[0;32m--> 144\u001b[0m cldfrac, ciwp, clwp, relq, reic) \u001b[38;5;241m=\u001b[39m \u001b[43m_prepare_general_arguments\u001b[49m\u001b[43m(\u001b[49m\u001b[38;5;28;43mself\u001b[39;49m\u001b[43m)\u001b[49m\n\u001b[1;32m    146\u001b[0m aldif \u001b[38;5;241m=\u001b[39m _climlab_to_rrtm_sfc(\u001b[38;5;28mself\u001b[39m\u001b[38;5;241m.\u001b[39maldif, \u001b[38;5;28mself\u001b[39m\u001b[38;5;241m.\u001b[39mTs)\n\u001b[1;32m    147\u001b[0m aldir \u001b[38;5;241m=\u001b[39m _climlab_to_rrtm_sfc(\u001b[38;5;28mself\u001b[39m\u001b[38;5;241m.\u001b[39maldir, \u001b[38;5;28mself\u001b[39m\u001b[38;5;241m.\u001b[39mTs)\n",
      "File \u001b[0;32m~/miniconda3/envs/climlabfix/lib/python3.10/site-packages/climlab/radiation/rrtm/utils.py:17\u001b[0m, in \u001b[0;36m_prepare_general_arguments\u001b[0;34m(RRTMGobject)\u001b[0m\n\u001b[1;32m     15\u001b[0m \u001b[38;5;66;03m# GASES -- put them in proper dimensions and units\u001b[39;00m\n\u001b[1;32m     16\u001b[0m vapor_mixing_ratio \u001b[38;5;241m=\u001b[39m mmr_to_vmr(RRTMGobject\u001b[38;5;241m.\u001b[39mspecific_humidity, gas\u001b[38;5;241m=\u001b[39m\u001b[38;5;124m'\u001b[39m\u001b[38;5;124mH2O\u001b[39m\u001b[38;5;124m'\u001b[39m)\n\u001b[0;32m---> 17\u001b[0m h2ovmr   \u001b[38;5;241m=\u001b[39m \u001b[43m_climlab_to_rrtm\u001b[49m\u001b[43m(\u001b[49m\u001b[43mvapor_mixing_ratio\u001b[49m\u001b[43m \u001b[49m\u001b[38;5;241;43m*\u001b[39;49m\u001b[43m \u001b[49m\u001b[43mnp\u001b[49m\u001b[38;5;241;43m.\u001b[39;49m\u001b[43mones_like\u001b[49m\u001b[43m(\u001b[49m\u001b[43mRRTMGobject\u001b[49m\u001b[38;5;241;43m.\u001b[39;49m\u001b[43mTatm\u001b[49m\u001b[43m)\u001b[49m\u001b[43m)\u001b[49m\n\u001b[1;32m     18\u001b[0m o3vmr    \u001b[38;5;241m=\u001b[39m _climlab_to_rrtm(RRTMGobject\u001b[38;5;241m.\u001b[39mabsorber_vmr[\u001b[38;5;124m'\u001b[39m\u001b[38;5;124mO3\u001b[39m\u001b[38;5;124m'\u001b[39m] \u001b[38;5;241m*\u001b[39m np\u001b[38;5;241m.\u001b[39mones_like(RRTMGobject\u001b[38;5;241m.\u001b[39mTatm))\n\u001b[1;32m     19\u001b[0m co2vmr   \u001b[38;5;241m=\u001b[39m _climlab_to_rrtm(RRTMGobject\u001b[38;5;241m.\u001b[39mabsorber_vmr[\u001b[38;5;124m'\u001b[39m\u001b[38;5;124mCO2\u001b[39m\u001b[38;5;124m'\u001b[39m] \u001b[38;5;241m*\u001b[39m np\u001b[38;5;241m.\u001b[39mones_like(RRTMGobject\u001b[38;5;241m.\u001b[39mTatm))\n",
      "File \u001b[0;32m~/miniconda3/envs/climlabfix/lib/python3.10/site-packages/climlab/radiation/rrtm/utils.py:81\u001b[0m, in \u001b[0;36m_climlab_to_rrtm\u001b[0;34m(field)\u001b[0m\n\u001b[1;32m     78\u001b[0m shape \u001b[38;5;241m=\u001b[39m field\u001b[38;5;241m.\u001b[39mshape\n\u001b[1;32m     79\u001b[0m \u001b[38;5;28;01mif\u001b[39;00m \u001b[38;5;28mlen\u001b[39m(shape)\u001b[38;5;241m==\u001b[39m\u001b[38;5;241m1\u001b[39m:  \u001b[38;5;66;03m#  (num_lev)\u001b[39;00m\n\u001b[1;32m     80\u001b[0m     \u001b[38;5;66;03m#  Need to append an extra dimension for singleton horizontal ncol\u001b[39;00m\n\u001b[0;32m---> 81\u001b[0m     \u001b[38;5;28;01mreturn\u001b[39;00m \u001b[43mfield\u001b[49m\u001b[43m[\u001b[49m\u001b[43mnp\u001b[49m\u001b[38;5;241;43m.\u001b[39;49m\u001b[43mnewaxis\u001b[49m\u001b[43m,\u001b[49m\u001b[43m \u001b[49m\u001b[38;5;241;43m.\u001b[39;49m\u001b[38;5;241;43m.\u001b[39;49m\u001b[38;5;241;43m.\u001b[39;49m\u001b[43m]\u001b[49m\n\u001b[1;32m     82\u001b[0m \u001b[38;5;28;01melif\u001b[39;00m \u001b[38;5;28mlen\u001b[39m(shape)\u001b[38;5;241m==\u001b[39m\u001b[38;5;241m2\u001b[39m:  \u001b[38;5;66;03m# (num_lat, num_lev)\u001b[39;00m\n\u001b[1;32m     83\u001b[0m     \u001b[38;5;28;01mreturn\u001b[39;00m field\n",
      "File \u001b[0;32m~/miniconda3/envs/climlabfix/lib/python3.10/site-packages/xarray/core/dataarray.py:861\u001b[0m, in \u001b[0;36mDataArray.__getitem__\u001b[0;34m(self, key)\u001b[0m\n\u001b[1;32m    858\u001b[0m     \u001b[38;5;28;01mreturn\u001b[39;00m \u001b[38;5;28mself\u001b[39m\u001b[38;5;241m.\u001b[39m_getitem_coord(key)\n\u001b[1;32m    859\u001b[0m \u001b[38;5;28;01melse\u001b[39;00m:\n\u001b[1;32m    860\u001b[0m     \u001b[38;5;66;03m# xarray-style array indexing\u001b[39;00m\n\u001b[0;32m--> 861\u001b[0m     \u001b[38;5;28;01mreturn\u001b[39;00m \u001b[38;5;28;43mself\u001b[39;49m\u001b[38;5;241;43m.\u001b[39;49m\u001b[43misel\u001b[49m\u001b[43m(\u001b[49m\u001b[43mindexers\u001b[49m\u001b[38;5;241;43m=\u001b[39;49m\u001b[38;5;28;43mself\u001b[39;49m\u001b[38;5;241;43m.\u001b[39;49m\u001b[43m_item_key_to_dict\u001b[49m\u001b[43m(\u001b[49m\u001b[43mkey\u001b[49m\u001b[43m)\u001b[49m\u001b[43m)\u001b[49m\n",
      "File \u001b[0;32m~/miniconda3/envs/climlabfix/lib/python3.10/site-packages/xarray/core/dataarray.py:1474\u001b[0m, in \u001b[0;36mDataArray.isel\u001b[0;34m(self, indexers, drop, missing_dims, **indexers_kwargs)\u001b[0m\n\u001b[1;32m   1471\u001b[0m indexers \u001b[38;5;241m=\u001b[39m either_dict_or_kwargs(indexers, indexers_kwargs, \u001b[38;5;124m\"\u001b[39m\u001b[38;5;124misel\u001b[39m\u001b[38;5;124m\"\u001b[39m)\n\u001b[1;32m   1473\u001b[0m \u001b[38;5;28;01mif\u001b[39;00m \u001b[38;5;28many\u001b[39m(is_fancy_indexer(idx) \u001b[38;5;28;01mfor\u001b[39;00m idx \u001b[38;5;129;01min\u001b[39;00m indexers\u001b[38;5;241m.\u001b[39mvalues()):\n\u001b[0;32m-> 1474\u001b[0m     ds \u001b[38;5;241m=\u001b[39m \u001b[38;5;28;43mself\u001b[39;49m\u001b[38;5;241;43m.\u001b[39;49m\u001b[43m_to_temp_dataset\u001b[49m\u001b[43m(\u001b[49m\u001b[43m)\u001b[49m\u001b[38;5;241;43m.\u001b[39;49m\u001b[43m_isel_fancy\u001b[49m\u001b[43m(\u001b[49m\n\u001b[1;32m   1475\u001b[0m \u001b[43m        \u001b[49m\u001b[43mindexers\u001b[49m\u001b[43m,\u001b[49m\u001b[43m \u001b[49m\u001b[43mdrop\u001b[49m\u001b[38;5;241;43m=\u001b[39;49m\u001b[43mdrop\u001b[49m\u001b[43m,\u001b[49m\u001b[43m \u001b[49m\u001b[43mmissing_dims\u001b[49m\u001b[38;5;241;43m=\u001b[39;49m\u001b[43mmissing_dims\u001b[49m\n\u001b[1;32m   1476\u001b[0m \u001b[43m    \u001b[49m\u001b[43m)\u001b[49m\n\u001b[1;32m   1477\u001b[0m     \u001b[38;5;28;01mreturn\u001b[39;00m \u001b[38;5;28mself\u001b[39m\u001b[38;5;241m.\u001b[39m_from_temp_dataset(ds)\n\u001b[1;32m   1479\u001b[0m \u001b[38;5;66;03m# Much faster algorithm for when all indexers are ints, slices, one-dimensional\u001b[39;00m\n\u001b[1;32m   1480\u001b[0m \u001b[38;5;66;03m# lists, or zero or one-dimensional np.ndarray's\u001b[39;00m\n",
      "File \u001b[0;32m~/miniconda3/envs/climlabfix/lib/python3.10/site-packages/xarray/core/dataset.py:2977\u001b[0m, in \u001b[0;36mDataset._isel_fancy\u001b[0;34m(self, indexers, drop, missing_dims)\u001b[0m\n\u001b[1;32m   2973\u001b[0m var_indexers \u001b[38;5;241m=\u001b[39m {\n\u001b[1;32m   2974\u001b[0m     k: v \u001b[38;5;28;01mfor\u001b[39;00m k, v \u001b[38;5;129;01min\u001b[39;00m valid_indexers\u001b[38;5;241m.\u001b[39mitems() \u001b[38;5;28;01mif\u001b[39;00m k \u001b[38;5;129;01min\u001b[39;00m var\u001b[38;5;241m.\u001b[39mdims\n\u001b[1;32m   2975\u001b[0m }\n\u001b[1;32m   2976\u001b[0m \u001b[38;5;28;01mif\u001b[39;00m var_indexers:\n\u001b[0;32m-> 2977\u001b[0m     new_var \u001b[38;5;241m=\u001b[39m \u001b[43mvar\u001b[49m\u001b[38;5;241;43m.\u001b[39;49m\u001b[43misel\u001b[49m\u001b[43m(\u001b[49m\u001b[43mindexers\u001b[49m\u001b[38;5;241;43m=\u001b[39;49m\u001b[43mvar_indexers\u001b[49m\u001b[43m)\u001b[49m\n\u001b[1;32m   2978\u001b[0m     \u001b[38;5;66;03m# drop scalar coordinates\u001b[39;00m\n\u001b[1;32m   2979\u001b[0m     \u001b[38;5;66;03m# https://github.com/pydata/xarray/issues/6554\u001b[39;00m\n\u001b[1;32m   2980\u001b[0m     \u001b[38;5;28;01mif\u001b[39;00m name \u001b[38;5;129;01min\u001b[39;00m \u001b[38;5;28mself\u001b[39m\u001b[38;5;241m.\u001b[39mcoords \u001b[38;5;129;01mand\u001b[39;00m drop \u001b[38;5;129;01mand\u001b[39;00m new_var\u001b[38;5;241m.\u001b[39mndim \u001b[38;5;241m==\u001b[39m \u001b[38;5;241m0\u001b[39m:\n",
      "File \u001b[0;32m~/miniconda3/envs/climlabfix/lib/python3.10/site-packages/xarray/core/variable.py:1130\u001b[0m, in \u001b[0;36mVariable.isel\u001b[0;34m(self, indexers, missing_dims, **indexers_kwargs)\u001b[0m\n\u001b[1;32m   1127\u001b[0m indexers \u001b[38;5;241m=\u001b[39m drop_dims_from_indexers(indexers, \u001b[38;5;28mself\u001b[39m\u001b[38;5;241m.\u001b[39mdims, missing_dims)\n\u001b[1;32m   1129\u001b[0m key \u001b[38;5;241m=\u001b[39m \u001b[38;5;28mtuple\u001b[39m(indexers\u001b[38;5;241m.\u001b[39mget(dim, \u001b[38;5;28mslice\u001b[39m(\u001b[38;5;28;01mNone\u001b[39;00m)) \u001b[38;5;28;01mfor\u001b[39;00m dim \u001b[38;5;129;01min\u001b[39;00m \u001b[38;5;28mself\u001b[39m\u001b[38;5;241m.\u001b[39mdims)\n\u001b[0;32m-> 1130\u001b[0m \u001b[38;5;28;01mreturn\u001b[39;00m \u001b[38;5;28;43mself\u001b[39;49m\u001b[43m[\u001b[49m\u001b[43mkey\u001b[49m\u001b[43m]\u001b[49m\n",
      "File \u001b[0;32m~/miniconda3/envs/climlabfix/lib/python3.10/site-packages/xarray/core/variable.py:811\u001b[0m, in \u001b[0;36mVariable.__getitem__\u001b[0;34m(self, key)\u001b[0m\n\u001b[1;32m    798\u001b[0m \u001b[38;5;28;01mdef\u001b[39;00m \u001b[38;5;21m__getitem__\u001b[39m(\u001b[38;5;28mself\u001b[39m, key) \u001b[38;5;241m-\u001b[39m\u001b[38;5;241m>\u001b[39m Self:\n\u001b[1;32m    799\u001b[0m \u001b[38;5;250m    \u001b[39m\u001b[38;5;124;03m\"\"\"Return a new Variable object whose contents are consistent with\u001b[39;00m\n\u001b[1;32m    800\u001b[0m \u001b[38;5;124;03m    getting the provided key from the underlying data.\u001b[39;00m\n\u001b[1;32m    801\u001b[0m \n\u001b[0;32m   (...)\u001b[0m\n\u001b[1;32m    809\u001b[0m \u001b[38;5;124;03m    array `x.values` directly.\u001b[39;00m\n\u001b[1;32m    810\u001b[0m \u001b[38;5;124;03m    \"\"\"\u001b[39;00m\n\u001b[0;32m--> 811\u001b[0m     dims, indexer, new_order \u001b[38;5;241m=\u001b[39m \u001b[38;5;28;43mself\u001b[39;49m\u001b[38;5;241;43m.\u001b[39;49m\u001b[43m_broadcast_indexes\u001b[49m\u001b[43m(\u001b[49m\u001b[43mkey\u001b[49m\u001b[43m)\u001b[49m\n\u001b[1;32m    812\u001b[0m     data \u001b[38;5;241m=\u001b[39m as_indexable(\u001b[38;5;28mself\u001b[39m\u001b[38;5;241m.\u001b[39m_data)[indexer]\n\u001b[1;32m    813\u001b[0m     \u001b[38;5;28;01mif\u001b[39;00m new_order:\n",
      "File \u001b[0;32m~/miniconda3/envs/climlabfix/lib/python3.10/site-packages/xarray/core/variable.py:658\u001b[0m, in \u001b[0;36mVariable._broadcast_indexes\u001b[0;34m(self, key)\u001b[0m\n\u001b[1;32m    654\u001b[0m \u001b[38;5;66;03m# Detect it can be mapped as an outer indexer\u001b[39;00m\n\u001b[1;32m    655\u001b[0m \u001b[38;5;66;03m# If all key is unlabeled, or\u001b[39;00m\n\u001b[1;32m    656\u001b[0m \u001b[38;5;66;03m# key can be mapped as an OuterIndexer.\u001b[39;00m\n\u001b[1;32m    657\u001b[0m \u001b[38;5;28;01mif\u001b[39;00m \u001b[38;5;28mall\u001b[39m(\u001b[38;5;129;01mnot\u001b[39;00m \u001b[38;5;28misinstance\u001b[39m(k, Variable) \u001b[38;5;28;01mfor\u001b[39;00m k \u001b[38;5;129;01min\u001b[39;00m key):\n\u001b[0;32m--> 658\u001b[0m     \u001b[38;5;28;01mreturn\u001b[39;00m \u001b[38;5;28;43mself\u001b[39;49m\u001b[38;5;241;43m.\u001b[39;49m\u001b[43m_broadcast_indexes_outer\u001b[49m\u001b[43m(\u001b[49m\u001b[43mkey\u001b[49m\u001b[43m)\u001b[49m\n\u001b[1;32m    660\u001b[0m \u001b[38;5;66;03m# If all key is 1-dimensional and there are no duplicate labels,\u001b[39;00m\n\u001b[1;32m    661\u001b[0m \u001b[38;5;66;03m# key can be mapped as an OuterIndexer.\u001b[39;00m\n\u001b[1;32m    662\u001b[0m dims \u001b[38;5;241m=\u001b[39m []\n",
      "File \u001b[0;32m~/miniconda3/envs/climlabfix/lib/python3.10/site-packages/xarray/core/variable.py:740\u001b[0m, in \u001b[0;36mVariable._broadcast_indexes_outer\u001b[0;34m(self, key)\u001b[0m\n\u001b[1;32m    737\u001b[0m             (k,) \u001b[38;5;241m=\u001b[39m np\u001b[38;5;241m.\u001b[39mnonzero(k)\n\u001b[1;32m    738\u001b[0m     new_key\u001b[38;5;241m.\u001b[39mappend(k)\n\u001b[0;32m--> 740\u001b[0m \u001b[38;5;28;01mreturn\u001b[39;00m dims, \u001b[43mOuterIndexer\u001b[49m\u001b[43m(\u001b[49m\u001b[38;5;28;43mtuple\u001b[39;49m\u001b[43m(\u001b[49m\u001b[43mnew_key\u001b[49m\u001b[43m)\u001b[49m\u001b[43m)\u001b[49m, \u001b[38;5;28;01mNone\u001b[39;00m\n",
      "File \u001b[0;32m~/miniconda3/envs/climlabfix/lib/python3.10/site-packages/xarray/core/indexing.py:383\u001b[0m, in \u001b[0;36mOuterIndexer.__init__\u001b[0;34m(self, key)\u001b[0m\n\u001b[1;32m    381\u001b[0m \u001b[38;5;28;01melif\u001b[39;00m is_duck_array(k):\n\u001b[1;32m    382\u001b[0m     \u001b[38;5;28;01mif\u001b[39;00m \u001b[38;5;129;01mnot\u001b[39;00m np\u001b[38;5;241m.\u001b[39missubdtype(k\u001b[38;5;241m.\u001b[39mdtype, np\u001b[38;5;241m.\u001b[39minteger):\n\u001b[0;32m--> 383\u001b[0m         \u001b[38;5;28;01mraise\u001b[39;00m \u001b[38;5;167;01mTypeError\u001b[39;00m(\n\u001b[1;32m    384\u001b[0m             \u001b[38;5;124mf\u001b[39m\u001b[38;5;124m\"\u001b[39m\u001b[38;5;124minvalid indexer array, does not have integer dtype: \u001b[39m\u001b[38;5;132;01m{\u001b[39;00mk\u001b[38;5;132;01m!r}\u001b[39;00m\u001b[38;5;124m\"\u001b[39m\n\u001b[1;32m    385\u001b[0m         )\n\u001b[1;32m    386\u001b[0m     \u001b[38;5;28;01mif\u001b[39;00m k\u001b[38;5;241m.\u001b[39mndim \u001b[38;5;241m>\u001b[39m \u001b[38;5;241m1\u001b[39m:\n\u001b[1;32m    387\u001b[0m         \u001b[38;5;28;01mraise\u001b[39;00m \u001b[38;5;167;01mTypeError\u001b[39;00m(\n\u001b[1;32m    388\u001b[0m             \u001b[38;5;124mf\u001b[39m\u001b[38;5;124m\"\u001b[39m\u001b[38;5;124minvalid indexer array for \u001b[39m\u001b[38;5;132;01m{\u001b[39;00m\u001b[38;5;28mtype\u001b[39m(\u001b[38;5;28mself\u001b[39m)\u001b[38;5;241m.\u001b[39m\u001b[38;5;18m__name__\u001b[39m\u001b[38;5;132;01m}\u001b[39;00m\u001b[38;5;124m; must be scalar \u001b[39m\u001b[38;5;124m\"\u001b[39m\n\u001b[1;32m    389\u001b[0m             \u001b[38;5;124mf\u001b[39m\u001b[38;5;124m\"\u001b[39m\u001b[38;5;124mor have 1 dimension: \u001b[39m\u001b[38;5;132;01m{\u001b[39;00mk\u001b[38;5;132;01m!r}\u001b[39;00m\u001b[38;5;124m\"\u001b[39m\n\u001b[1;32m    390\u001b[0m         )\n",
      "\u001b[0;31mTypeError\u001b[0m: invalid indexer array, does not have integer dtype: array(None, dtype=object)"
     ]
    }
   ],
   "source": [
    "# Get the water vapor data from CESM output\n",
    "#cesm_data_path = \"http://thredds.atmos.albany.edu:8080/thredds/dodsC/CESMA/\"\n",
    "#atm_control = xr.open_dataset(cesm_data_path + \"cpl_1850_f19/concatenated/cpl_1850_f19.cam.h0.nc\")\n",
    "#atm_control = xr.open_dataset(cesm_data_path + \"cpl_1850_f19/concatenated/cpl_1850_f19.cam.h0.nc\")\n",
    "\n",
    "# Take global, annual average of the specific humidity\n",
    "#weight_factor = atm_control.gw / atm_control.gw.mean(dim='lat')\n",
    "#Qglobal = (atm_control.Q * weight_factor).mean(dim=('lat','lon','time'))\n",
    "\n",
    "\n",
    "\n",
    "\n",
    "#  Create the single-column model domain\n",
    "\n",
    "#  Make a model on same vertical domain as the GCM\n",
    "mystate = climlab.column_state(lev=Qglobal.lev, water_depth=2.5)\n",
    "#  Create the model itself -- radiation only!\n",
    "rad = climlab.radiation.RRTMG(name='Radiation (all gases)',  # give our model a name!\n",
    "                              state=mystate,   # give our model an initial condition!\n",
    "                              specific_humidity=Qglobal,  # tell the model how much water vapor there is\n",
    "                              albedo = 0.25,  # this the SURFACE shortwave albedo\n",
    "                              timestep = climlab.constants.seconds_per_day,  # set the timestep to one day (measured in seconds)\n",
    "                             )\n",
    "\n",
    "#  remove ozone\n",
    "rad_noO3 = climlab.process_like(rad)\n",
    "rad_noO3.absorber_vmr['O3'] *= 0.\n",
    "rad_noO3.name = 'no O3'\n",
    "#  remove water vapor\n",
    "rad_noH2O = climlab.process_like(rad)\n",
    "rad_noH2O.specific_humidity *= 0.\n",
    "rad_noH2O.name = 'no H2O'\n",
    "#  remove both\n",
    "rad_noO3_noH2O = climlab.process_like(rad_noO3)\n",
    "rad_noO3_noH2O.specific_humidity *= 0.\n",
    "rad_noO3_noH2O.name = 'no O3, no H2O'\n",
    "\n",
    "#  put all models together in a list\n",
    "rad_models = [rad, rad_noO3, rad_noH2O, rad_noO3_noH2O]\n",
    "\n",
    "#  Loop through the models and integrate each one out to equilibrium\n",
    "for model in rad_models:\n",
    "    for n in range(100):\n",
    "        model.step_forward()\n",
    "    while (np.abs(model.ASR-model.OLR)>0.01):\n",
    "        model.step_forward()\n",
    "        \n",
    "# Plot all the results\n",
    "skew = make_skewT()\n",
    "for model in rad_models:\n",
    "    add_profile(skew, model)\n",
    "skew.ax.set_title('Pure radiative equilibrium', fontsize=18);"
   ]
  },
  {
   "cell_type": "markdown",
   "metadata": {},
   "source": [
    "As we have already discussed, none of these profiles really looks anything like the observations in the troposphere. This strongly suggests that **other physical processes** (aside from radiation) are important in determining the observed temperature profile.\n",
    "\n",
    "Plotting on the skew-T diagram makes it clear that **all the radiative equilibrium profiles are statically unstable near the surface**.\n",
    "\n",
    "So we're now going to **add a representation of the effects of convective mixing** to the single-column model."
   ]
  },
  {
   "cell_type": "markdown",
   "metadata": {},
   "source": [
    "____________\n",
    "\n",
    "## 2. Building a radiative-convection model in climlab\n",
    "____________"
   ]
  },
  {
   "cell_type": "markdown",
   "metadata": {},
   "source": [
    "To make a **Radiative-Convective model**, we just take a **radiation** model and couple it to a **convection** model!\n",
    "\n",
    "The \"convection\" model we're going to use here is available as\n",
    "\n",
    "```\n",
    "climlab.convection.ConvectiveAdjustment\n",
    "```\n",
    "\n",
    "It is a simple process that looks for **lapse rates exceeding a critical threshold** and performs an **instantaneous adjustment** that mixes temperatures to the critical lapse rate while conserving energy.\n",
    "\n",
    "This is a **parameterization** of the complex, rapid mixing processes that actually occur in an unstable air column!"
   ]
  },
  {
   "cell_type": "markdown",
   "metadata": {},
   "source": [
    "Here is some code to put this model together in `climlab`:"
   ]
  },
  {
   "cell_type": "code",
   "execution_count": null,
   "metadata": {},
   "outputs": [],
   "source": [
    "#  Make a model on same vertical domain as the GCM\n",
    "mystate = climlab.column_state(lev=Qglobal.lev, water_depth=2.5)\n",
    "#  Build the radiation model -- just like we already did\n",
    "rad = climlab.radiation.RRTMG(name='Radiation (net)',\n",
    "                              state=mystate, \n",
    "                              specific_humidity=Qglobal,\n",
    "                              timestep = climlab.constants.seconds_per_day,\n",
    "                              albedo = 0.25,  # surface albedo, tuned to give reasonable ASR for reference cloud-free model\n",
    "                             )\n",
    "#  Now create the convection model\n",
    "conv = climlab.convection.ConvectiveAdjustment(name='Convection',\n",
    "                                               state=mystate,\n",
    "                                               adj_lapse_rate=6.5, # this is the key parameter! We'll discuss below\n",
    "                                               timestep=rad.timestep,  # same timestep!\n",
    "                                              )\n",
    "#  Here is where we build the model by coupling together the two components\n",
    "rcm = climlab.couple([rad, conv], name='Radiative-Convective Model')"
   ]
  },
  {
   "cell_type": "code",
   "execution_count": null,
   "metadata": {},
   "outputs": [],
   "source": [
    "print(rcm)"
   ]
  },
  {
   "cell_type": "markdown",
   "metadata": {},
   "source": [
    "____________\n",
    "\n",
    "## 3. Adjustment toward radiative-convective equilibrium\n",
    "____________\n"
   ]
  },
  {
   "cell_type": "markdown",
   "metadata": {},
   "source": [
    "### Adjustment from isothermal initial conditions\n",
    "\n",
    "To get some insight into the interaction between radiation and convection, it's useful to look at the adjustment process from a non-equilibrium initial condition.\n",
    "\n",
    "**Let's make an animation!**\n",
    "\n",
    "*The code below is complicated but it is mostly for generating the animation. Focus on the results, not the code here.*"
   ]
  },
  {
   "cell_type": "code",
   "execution_count": null,
   "metadata": {
    "tags": [
     "hide_input"
    ]
   },
   "outputs": [],
   "source": [
    "#  Some imports needed to make and display animations\n",
    "\n",
    "def get_tendencies(model):\n",
    "    '''Pack all the subprocess tendencies into xarray.Datasets\n",
    "    and convert to units of K / day'''\n",
    "    tendencies_atm = xr.Dataset()\n",
    "    tendencies_sfc = xr.Dataset()\n",
    "    for name, proc, top_proc in climlab.utils.walk.walk_processes(model, topname='Total', topdown=False):\n",
    "        tendencies_atm[name] = proc.tendencies['Tatm'].to_xarray()\n",
    "        tendencies_sfc[name] = proc.tendencies['Ts'].to_xarray()\n",
    "    for tend in [tendencies_atm, tendencies_sfc]:\n",
    "        #  convert to K / day\n",
    "        tend *= climlab.constants.seconds_per_day\n",
    "    return tendencies_atm, tendencies_sfc\n",
    "\n",
    "def initial_figure(model):\n",
    "    fig = plt.figure(figsize=(14,6))\n",
    "    lines = []\n",
    "    \n",
    "    skew = SkewT(fig, subplot=(1,2,1), rotation=30)\n",
    "    #  plot the observations\n",
    "    skew.plot(Tglobal.level, Tglobal, color='black', linestyle='-', linewidth=2, label='Observations')    \n",
    "    lines.append(skew.plot(model.lev, model.Tatm - climlab.constants.tempCtoK, \n",
    "              linestyle='-', linewidth=2, color='C0', label='RC model (all gases)')[0])\n",
    "    skew.ax.legend()\n",
    "    skew.ax.set_ylim(1050, 10)\n",
    "    skew.ax.set_xlim(-60, 75)\n",
    "    # Add the relevant special lines\n",
    "    skew.plot_dry_adiabats(linewidth=0.5)\n",
    "    skew.plot_moist_adiabats(linewidth=0.5)\n",
    "    skew.ax.set_xlabel('Temperature ($^\\circ$C)', fontsize=14)\n",
    "    skew.ax.set_ylabel('Pressure (hPa)', fontsize=14)\n",
    "    lines.append(skew.plot(1000, model.Ts - climlab.constants.tempCtoK, 'o', \n",
    "                  markersize=8, color='C0', )[0])\n",
    "\n",
    "    ax = fig.add_subplot(1,2,2, sharey=skew.ax)\n",
    "    ax.set_ylim(1050, 10)\n",
    "    ax.set_xlim(-8,8)\n",
    "    ax.grid()\n",
    "    ax.set_xlabel('Temperature tendency ($^\\circ$C day$^{-1}$)', fontsize=14)\n",
    "\n",
    "    color_cycle=['g','b','r','y','k']\n",
    "    #color_cycle=['y', 'r', 'b', 'g', 'k']\n",
    "    tendencies_atm, tendencies_sfc = get_tendencies(rcm)\n",
    "    for i, name in enumerate(tendencies_atm.data_vars):\n",
    "        lines.append(ax.plot(tendencies_atm[name], model.lev, label=name, color=color_cycle[i])[0])\n",
    "    \n",
    "    # Add DOT for surface value\n",
    "    for i, name in enumerate(tendencies_sfc.data_vars):\n",
    "        lines.append(ax.plot(tendencies_sfc[name], 1000, 'o', markersize=8, color=color_cycle[i])[0])\n",
    "    ax.legend(loc='center right');\n",
    "    lines.append(skew.ax.text(-100, 50, 'Day {}'.format(int(model.time['days_elapsed'])), fontsize=12)) \n",
    "    return fig, lines\n",
    "\n",
    "def animate(day, model, lines):\n",
    "    lines[0].set_xdata(np.array(model.Tatm)-climlab.constants.tempCtoK)\n",
    "    lines[1].set_xdata(np.array(model.Ts)-climlab.constants.tempCtoK)\n",
    "    #lines[2].set_xdata(np.array(model.q)*1E3)\n",
    "    tendencies_atm, tendencies_sfc = get_tendencies(model)\n",
    "    for i, name in enumerate(tendencies_atm.data_vars):\n",
    "        lines[2+i].set_xdata(tendencies_atm[name])\n",
    "    for i, name in enumerate(tendencies_sfc.data_vars):\n",
    "        lines[2+5+i].set_xdata(tendencies_sfc[name])\n",
    "    lines[-1].set_text('Day {}'.format(int(model.time['days_elapsed'])))\n",
    "    # This is kind of a hack, but without it the initial frame doesn't appear\n",
    "    if day != 0:\n",
    "        model.step_forward()\n",
    "    return lines"
   ]
  },
  {
   "cell_type": "markdown",
   "metadata": {},
   "source": [
    "We are going to start from an **isothermal** initial state, and let the model drift toward equilibrium."
   ]
  },
  {
   "cell_type": "code",
   "execution_count": null,
   "metadata": {},
   "outputs": [],
   "source": [
    "#  Start from isothermal state\n",
    "rcm.state.Tatm[:] = rcm.state.Ts\n",
    "#  Call the diagnostics once for initial plotting\n",
    "rcm.compute_diagnostics()\n",
    "#  Plot initial data\n",
    "fig, lines = initial_figure(rcm)"
   ]
  },
  {
   "cell_type": "markdown",
   "metadata": {},
   "source": [
    "Notice several things here:\n",
    "\n",
    "- The initial profile is isothermal at 15ºC. This is an arbitrary choice we made.\n",
    "- The initial tendency from **convection** is zero everywhere. Why?\n",
    "- Shortwave radiation tends to **warm everywhere**. Why?\n",
    "- Longwave radiation tends to **cool everywhere**. The cooling is very strong especially aloft. Why?\n",
    "- The total tendency (black) is warming at the surface and cooling in the atmosphere. What should happen next? What are the implications for convective instability?"
   ]
  },
  {
   "cell_type": "markdown",
   "metadata": {},
   "source": [
    "Recall from TPA that solar radiative heating of the stratosphere is mainly from absorption of ultraviolet (UV) and visible radiation by ozone, along with contributions due to the near-infrared absorption by carbon dioxide and water vapour, while the long-wave process consists of absorption and emission of infrared radiation, principally by carbon dioxide, methane, nitrous oxide, ozone and water vapour."
   ]
  },
  {
   "cell_type": "markdown",
   "metadata": {},
   "source": [
    "Now let's look at how the model actually adjusts:"
   ]
  },
  {
   "cell_type": "code",
   "execution_count": null,
   "metadata": {},
   "outputs": [],
   "source": [
    "#  This is where we make a loop over many timesteps and create an animation in the notebook\n",
    "ani = animation.FuncAnimation(fig, animate, 150, fargs=(rcm, lines))\n",
    "HTML(ani.to_html5_video())"
   ]
  },
  {
   "cell_type": "markdown",
   "metadata": {},
   "source": [
    "- What is the timescale of the adjustment in the stratosphere?\n",
    "\n",
    "- Which terms are dominant in the stratosphere?\n",
    "\n",
    "- How do you know that the final state is in equilibrium?\n",
    "\n",
    "- In equilibrium are the signs of the radiative and convective heating terms as you expect?"
   ]
  },
  {
   "cell_type": "markdown",
   "metadata": {},
   "source": [
    "### What if instead we start out from pure Radiative equilibrium?\n",
    "\n",
    "This will represent the effect of a sudden \"switching on\" of convective processes."
   ]
  },
  {
   "cell_type": "code",
   "execution_count": null,
   "metadata": {},
   "outputs": [],
   "source": [
    "#  Here we take JUST THE RADIATION COMPONENT of the full model and run it out to (near) equilibrium\n",
    "#  This is just to get the initial condition for our animation\n",
    "for n in range(1000):\n",
    "    rcm.subprocess['Radiation (net)'].step_forward()"
   ]
  },
  {
   "cell_type": "code",
   "execution_count": null,
   "metadata": {},
   "outputs": [],
   "source": [
    "#  Call the diagnostics once for initial plotting\n",
    "rcm.compute_diagnostics()\n",
    "#  Plot initial data\n",
    "fig, lines = initial_figure(rcm)"
   ]
  },
  {
   "cell_type": "code",
   "execution_count": null,
   "metadata": {},
   "outputs": [],
   "source": [
    "#  This is where we make a loop over many timesteps and create an animation in the notebook\n",
    "ani = animation.FuncAnimation(fig, animate, 100, fargs=(rcm, lines))\n",
    "HTML(ani.to_html5_video())"
   ]
  },
  {
   "cell_type": "markdown",
   "metadata": {},
   "source": [
    "This animation is not as exciting because the **instability is destroyed immediately** in the first timestep!\n",
    "\n",
    "That is because the `ConvectiveAdjustment` process operates instantaneously whenever there is any instability. It is a parameterization taking advantage of the fact that, in nature, **convection processes are fast compared to radiative processes**.\n",
    "\n",
    "But notice that the final state is pretty much the same as in the first animation.\n",
    "\n",
    "**The column tends toward the same equilibrium state regardless of where it starts.**"
   ]
  },
  {
   "cell_type": "markdown",
   "metadata": {},
   "source": [
    "____________\n",
    "\n",
    "## 4. Compare Radiative- and Radiative-Convective Equilibrium\n",
    "____________"
   ]
  },
  {
   "cell_type": "markdown",
   "metadata": {},
   "source": [
    "Let's repeat our experiment with removing certain absorbing gases from the model, but use the Radiative-Convective model."
   ]
  },
  {
   "cell_type": "code",
   "execution_count": null,
   "metadata": {
    "tags": [
     "hide_input"
    ]
   },
   "outputs": [],
   "source": [
    "#  Make a model on same vertical domain as the GCM\n",
    "mystate = climlab.column_state(lev=Qglobal.lev, water_depth=2.5)\n",
    "\n",
    "rad = climlab.radiation.RRTMG(name='all gases',\n",
    "                              state=mystate, \n",
    "                              specific_humidity=Qglobal,\n",
    "                              timestep = climlab.constants.seconds_per_day,\n",
    "                              albedo = 0.25,  # tuned to give reasonable ASR for reference cloud-free model\n",
    "                             )\n",
    "#  remove ozone\n",
    "rad_noO3 = climlab.process_like(rad)\n",
    "rad_noO3.absorber_vmr['O3'] *= 0.\n",
    "rad_noO3.name = 'no O3'\n",
    "\n",
    "#  remove water vapor\n",
    "rad_noH2O = climlab.process_like(rad)\n",
    "rad_noH2O.specific_humidity *= 0.\n",
    "rad_noH2O.name = 'no H2O'\n",
    "\n",
    "#  remove both\n",
    "rad_noO3_noH2O = climlab.process_like(rad_noO3)\n",
    "rad_noO3_noH2O.specific_humidity *= 0.\n",
    "rad_noO3_noH2O.name = 'no O3, no H2O'\n",
    "\n",
    "#  put all models together in a list\n",
    "rad_models = [rad, rad_noO3, rad_noH2O, rad_noO3_noH2O]\n",
    "\n",
    "rc_models = []\n",
    "for r in rad_models:\n",
    "    newrad = climlab.process_like(r)\n",
    "    conv = climlab.convection.ConvectiveAdjustment(name='Convective Adjustment',\n",
    "                                               state=newrad.state,\n",
    "                                               adj_lapse_rate=6.5,  # the key parameter in the convection model!\n",
    "                                               timestep=newrad.timestep,)\n",
    "    rc = newrad + conv\n",
    "    rc.name = newrad.name\n",
    "    rc_models.append(rc)\n",
    "\n",
    "for model in rad_models:\n",
    "    for n in range(100):\n",
    "        model.step_forward()\n",
    "    while (np.abs(model.ASR-model.OLR)>0.01):\n",
    "        model.step_forward()    \n",
    "    \n",
    "for model in rc_models:\n",
    "    for n in range(100):\n",
    "        model.step_forward()\n",
    "    while (np.abs(model.ASR-model.OLR)>0.01):\n",
    "        model.step_forward()"
   ]
  },
  {
   "cell_type": "code",
   "execution_count": null,
   "metadata": {
    "tags": [
     "hide_input"
    ]
   },
   "outputs": [],
   "source": [
    "skew = make_skewT()\n",
    "for model in rad_models:\n",
    "    add_profile(skew, model)\n",
    "skew.ax.set_title('Pure radiative equilibrium', fontsize=18);"
   ]
  },
  {
   "cell_type": "code",
   "execution_count": null,
   "metadata": {
    "tags": [
     "hide_input"
    ]
   },
   "outputs": [],
   "source": [
    "skew2 = make_skewT()\n",
    "for model in rc_models:\n",
    "    add_profile(skew2, model)\n",
    "skew2.ax.set_title('Radiative-convective equilibrium', fontsize=18);"
   ]
  },
  {
   "cell_type": "markdown",
   "metadata": {},
   "source": [
    "Lots to discuss here.\n",
    "\n",
    "The overall message is that equilibrium temperature profile results from a competition between radiation and convection. Essentially:\n",
    "\n",
    "- Radiation is always trying to push temperatures toward radiative equilibrium, which means\n",
    "    - warm surface\n",
    "    - cold troposphere\n",
    "- Convection cools the surface and warms the troposphere\n",
    "- The troposphere can be defined here as the layer over which convection is active.\n",
    "- This is true whether or not we have the radiative effects of water vapor.\n",
    "- When we remove the water vapor (and its warming greenhouse effect), the surface temperature becomes much colder and the troposphere is much shallower -- but it is still there."
   ]
  },
  {
   "cell_type": "markdown",
   "metadata": {},
   "source": [
    "____________\n",
    "\n",
    "## 5. The role of the critical lapse rate\n",
    "____________"
   ]
  },
  {
   "cell_type": "markdown",
   "metadata": {},
   "source": [
    "### What have we done above\n",
    "\n",
    "These calculations all used a critical lapse rate of 6.5 K / km, which is a reasonable approximation to observations.\n",
    "\n",
    "We set this with the input argument\n",
    "```\n",
    "adj_lapse_rate\n",
    "```\n",
    "to the `ConvectiveAdjustment` process.\n",
    "\n",
    "The idea is that we are trying to represent the statistical effects of many episodes of moist convection.\n",
    "\n",
    "An air column that is perfectly neutral to moist instability would follow the blue **moist adiabats** on the skew-T diagrams.\n",
    "\n",
    "We can force the model to behave this way by setting\n",
    "```\n",
    "adj_lapse_rate = 'pseudoadiabat'\n",
    "```\n",
    "\n",
    "However the real atmosphere, on average, does not exactly follow these adiabats for several reasons:\n",
    "\n",
    "- the slope of the moist adiabat depends strongly on temperature (as we can see on these diagrams)\n",
    "- We are looking at temperatures averaged over the whole planet, including regions that are warm and moist, warm and dry, and cold.\n",
    "- Heat fluxes by mid-latitude eddies play an important role in **stabilizing** the extra-tropical atmosphere, and in fact simple RCE is a poor model for the extratropics balance.\n",
    "\n",
    "So here we sweep all this complexity under the rug and just choose a single critical lapse rate for our convective adjustment model.\n",
    "\n",
    "But this is a **parameter** that is uncertain and could be interesting to explore."
   ]
  },
  {
   "cell_type": "markdown",
   "metadata": {},
   "source": [
    "### Python exercise: change the critical lapse rate\n",
    "\n",
    "Repeat the whole series of calculations for the different combinations of absorbing gases above, but with different critical lapse rates:\n",
    "\n",
    "- `adj_lapse_rate = 9.8` (in K/km, the dry adiabatic lapse rate, suitable for an atmosphere where condensation does not impact the buoyancy of air parcels)\n",
    "- `adj_lapse_rate = 'pseudoadiabat'` (more suitable for the tropical atmosphere)"
   ]
  },
  {
   "cell_type": "markdown",
   "metadata": {},
   "source": [
    "____________\n",
    "\n",
    "## 6. Summary of radiative-convection equilibrium results\n",
    "____________\n",
    "\n",
    "- We noted that pure radiative equilibrium is **not** a good model for the observed temperature profile.\n",
    "- An air column in radiative equilibrium has a **warm surface** and **cold troposphere**.\n",
    "- In reality this would tend to become **unstable** and cause vertical mixing.\n",
    "\n",
    "To account for this shortcoming of the radiation model, we coupled our single-column radiation model (using the `RRTMG` radiation model) to a simple **convection** model.\n",
    "\n",
    "- The `ConvectiveAdjustment` model instantly mixes out any profiles where the **lapse rate** exceeds some critical threshold value.\n",
    "- This critical lapse rate is the tunable parameter in our combined **Radiative-Convective Model** or RCM.\n",
    "- Using a value of 6.5 K / km and realistic gas profiles gives a reasonable (not perfect) fit to the observed air temperatures.\n",
    "- The **RCM represents the \"tug-of-war\"** between **radiation** (trying to warm the surface and cool the troposphere) and **convection** (cool the surface and warm the troposphere).\n",
    "- The convectively mixed layer extends up to near the top of the troposphere.\n",
    "\n",
    "Our experiments with removing certain absorbing gases show something interesting: the height of the tropopause (boundary bewteen troposphere and stratosphere) changes when we remove absorbers. Warmer columns also appear to have higher tropopause.\n",
    "\n",
    "Now that we know how to build and use this RCM, we'll be able to use to study some climate change processes in more detail."
   ]
  },
  {
   "cell_type": "markdown",
   "metadata": {
    "slideshow": {
     "slide_type": "skip"
    }
   },
   "source": [
    "____________\n",
    "\n",
    "## Credits\n",
    "\n",
    "This notebook is part of [The Climate Laboratory](https://brian-rose.github.io/ClimateLaboratoryBook), an open-source textbook developed and maintained by [Brian E. J. Rose](http://www.atmos.albany.edu/facstaff/brose/index.html), University at Albany.\n",
    "\n",
    "It is licensed for free and open consumption under the\n",
    "[Creative Commons Attribution 4.0 International (CC BY 4.0)](https://creativecommons.org/licenses/by/4.0/) license.\n",
    "\n",
    "Development of these notes and the [climlab software](https://github.com/brian-rose/climlab) is partially supported by the National Science Foundation under award AGS-1455071 to Brian Rose. Any opinions, findings, conclusions or recommendations expressed here are mine and do not necessarily reflect the views of the National Science Foundation.\n",
    "____________"
   ]
  },
  {
   "cell_type": "code",
   "execution_count": null,
   "metadata": {},
   "outputs": [],
   "source": []
  }
 ],
 "metadata": {
  "kernelspec": {
   "display_name": "Python 3 (ipykernel)",
   "language": "python",
   "name": "python3"
  },
  "language_info": {
   "codemirror_mode": {
    "name": "ipython",
    "version": 3
   },
   "file_extension": ".py",
   "mimetype": "text/x-python",
   "name": "python",
   "nbconvert_exporter": "python",
   "pygments_lexer": "ipython3",
   "version": "3.9.6"
  }
 },
 "nbformat": 4,
 "nbformat_minor": 4
}
