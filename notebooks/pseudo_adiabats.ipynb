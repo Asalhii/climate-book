{
 "cells": [
  {
   "cell_type": "markdown",
   "id": "880bcbcb",
   "metadata": {},
   "source": [
    "# Moist vs Pseudo-adiabats\n",
    "\n",
    "In this notebook, we will compute moist vs pseudo-adiabats, we will plot them and explore differences based on specific assumptions on the sfc temperature and moisture content. \n",
    "\n"
   ]
  },
  {
   "cell_type": "code",
   "execution_count": 19,
   "id": "09aea779",
   "metadata": {},
   "outputs": [
    {
     "name": "stdout",
     "output_type": "stream",
     "text": [
      "6.11\n"
     ]
    }
   ],
   "source": [
    "# packages needed in the notebook\n",
    "import matplotlib.pyplot as plt\n",
    "import numpy as np\n",
    "import metpy.calc as mpcalc\n",
    "from metpy.units import units\n",
    "\n",
    "# define constants\n",
    "Lv=2.5e6\n",
    "Rv=461.5\n",
    "Rd = 287.\n",
    "T0 = 273.16\n",
    "cpd = 1003.\n",
    "cpv = 1864.\n",
    "cpl = 4184.\n",
    "g = 9.81\n",
    "eps = Rd/Rv\n",
    "print(es0)\n"
   ]
  },
  {
   "cell_type": "markdown",
   "id": "b583cad2",
   "metadata": {},
   "source": [
    "Now compute the saturation vapor pressure using the Bolton's formula\n",
    "\n",
    "$ e_s = e_{s0} \\exp \\big [ - \\frac{L_v}{R_v}  \\big( \\frac{1}{T} - \\frac{1}{T_0} \\big ) \\big ]$\n",
    "\n",
    "and once we know es, we can compute the saturation specific humidity as\n",
    "\n",
    "$q_s = \\varepsilon \\frac{e_s(T)}{p}$"
   ]
  },
  {
   "cell_type": "code",
   "execution_count": 11,
   "id": "9a957e8a",
   "metadata": {},
   "outputs": [
    {
     "name": "stdout",
     "output_type": "stream",
     "text": [
      "6.11\n"
     ]
    }
   ],
   "source": [
    "#define p range\n",
    "p = np.arange(1000.,90.,-1)\n",
    "N = len(p)\n",
    "z_p = mpcalc.pressure_to_height_std(p* units.hPa)\n",
    "z = z_p.magnitude\n"
   ]
  },
  {
   "cell_type": "code",
   "execution_count": 10,
   "id": "1f332c28",
   "metadata": {},
   "outputs": [
    {
     "name": "stdout",
     "output_type": "stream",
     "text": [
      "6.11\n"
     ]
    }
   ],
   "source": [
    "# now let's compute the saturation vapor pressure for a sfc T of 288K\n",
    "def es(T,fac=0.14):\n",
    "    return es0*np.exp(-Lv/Rv*(1./T -1./T0))\n",
    "\n",
    "T_min = 100.\n",
    "T_max = 320.\n",
    "delta_T = (T_max - T_min)/N\n",
    "\n",
    "T = np.arange(T_min,T_max,delta_T)\n",
    "\n",
    "Ts = 300\n",
    "p_sfc = p[0]\n",
    "print (es0)"
   ]
  },
  {
   "cell_type": "code",
   "execution_count": 9,
   "id": "608dee36",
   "metadata": {},
   "outputs": [
    {
     "data": {
      "text/plain": [
       "Text(0, 0.5, 'es (hPa)')"
      ]
     },
     "execution_count": 9,
     "metadata": {},
     "output_type": "execute_result"
    },
    {
     "data": {
      "image/png": "[encoded data removed]",
      "text/plain": [
       "<Figure size 640x480 with 1 Axes>"
      ]
     },
     "metadata": {},
     "output_type": "display_data"
    }
   ],
   "source": [
    "#plot es\n",
    "fig,ax=plt.subplots()\n",
    "ax.plot(T,es(T))\n",
    "ax.set_xlabel(\"T (K)\")\n",
    "ax.set_ylabel(\"es (hPa)\")"
   ]
  },
  {
   "cell_type": "code",
   "execution_count": 12,
   "id": "bb35231a",
   "metadata": {},
   "outputs": [
    {
     "name": "stdout",
     "output_type": "stream",
     "text": [
      "0.01792190577604704\n"
     ]
    }
   ],
   "source": [
    "RH = 0.8\n",
    "#now evaluate the surface vapor pressure and with it parcel specific humidity \n",
    "e_sfc = RH*es(Ts)\n",
    "qt = eps*e_sfc/p_sfc\n",
    "print(qt)\n",
    "qd = 1 -qt"
   ]
  },
  {
   "cell_type": "markdown",
   "id": "c6e86f69",
   "metadata": {},
   "source": [
    "now let's define the saturated lapse rate as we did in class\n",
    "\n",
    "$ \\Gamma_s = \\frac{g}{\\widetilde{c_p}}$ with \n",
    "\n",
    "$ \\widetilde{c_p} = \\big [ q_d c_{pd} + q_s c_{pv} + q_l c_{pl }  + \\frac{q_s L_v^2}{R_v T^2} \\big(1 + \\frac{q_sR_v}{R_d}\\big)\\big]/\\big[1 + \\frac{q_sL_v}{R_dT}\\big]$\n",
    "\n",
    "and the pseudo-adiabatic lapse rate as\n",
    "\n",
    "$\\Gamma_{pa} = \\frac{g}{\\widetilde{c_p(q_l = 0})}$\n",
    "\n"
   ]
  },
  {
   "cell_type": "code",
   "execution_count": 13,
   "id": "dcbcd4f4",
   "metadata": {},
   "outputs": [
    {
     "name": "stdout",
     "output_type": "stream",
     "text": [
      "295.36447626200544 kelvin\n",
      "946.9553946614271 hectopascal\n"
     ]
    }
   ],
   "source": [
    "# compute dewpoint temperature\n",
    "Td = mpcalc.dewpoint_from_relative_humidity(Ts * units.degK, RH*100 * units.percent)\n",
    "p_lcl,t_lcl = mpcalc.lcl(1000 * units.hPa, Ts * units.degK, Td)\n",
    "print(t_lcl)\n",
    "print(p_lcl)"
   ]
  },
  {
   "cell_type": "code",
   "execution_count": 14,
   "id": "1206f97b",
   "metadata": {},
   "outputs": [],
   "source": [
    "#now define the temperature of a parcel that is raised along a saturated and reversible adiabatic process (T_s)\n",
    "#and that of a parcel raised on a pseudo-adiabatic process\n",
    "\n",
    "T_s = np.tile(0.,N)\n",
    "T_pa = np.tile(0.,N)\n",
    "#qs_s = np.tile(0,N)\n",
    "#qs_pa = np.tile(0,N)\n",
    "#gamma_s = np.tile(0.,N)\n",
    "#gamma_pa = np.tile(0.,N)\n",
    "#cp_s = gamma_s\n",
    "#cp_pa = gamma_pa\n",
    "\n",
    "T_s[0] = Ts\n",
    "T_pa[0] = Ts\n",
    "\n"
   ]
  },
  {
   "cell_type": "code",
   "execution_count": 15,
   "id": "3551ebc1",
   "metadata": {},
   "outputs": [],
   "source": [
    "for j in range(1,N):\n",
    "    if(p[j] >= p_lcl.magnitude):\n",
    "        T_s[j] = T_s[j-1] - g/cpd*1000*(z[j] - z[j-1])\n",
    "        T_pa[j] = T_pa[j-1] - g/cpd*1000*(z[j] - z[j-1])\n",
    "    else:\n",
    "        es_s = es(T_s[j-1])\n",
    "        qs_s = eps*es_s/p[j-1]\n",
    "        cp_s = (qd*cpd + qs_s*cpv + (qt-qs_s)*cpl + qs_s*Lv**2/(Rv*T_s[j-1]**2)*(1 + qs_s*Rv/Rd))/ (1 + qs_s*Lv/(Rd*T_s[j-1]))                                                                                             \n",
    "        gamma_s = g/cp_s\n",
    "        T_s[j] = T_s[j-1] - gamma_s*1000*(z[j] - z[j-1])\n",
    "        \n",
    "        es_pa = es(T_pa[j-1])\n",
    "        qs_pa = eps*es_pa/p[j-1]\n",
    "        cp_pa= (qd*cpd + qs_pa*cpv + qs_pa*Lv**2/(Rv*T_pa[j-1]**2)*(1 + qs_pa*Rv/Rd))/ (1 + qs_pa*Lv/(Rd*T_pa[j-1]))                                                                                             \n",
    "        gamma_pa = g/cp_pa\n",
    "        T_pa[j] = T_pa[j-1] - gamma_pa*1000*(z[j] - z[j-1])   \n",
    "      \n",
    "        \n",
    "       "
   ]
  },
  {
   "cell_type": "code",
   "execution_count": 16,
   "id": "9fdaf052",
   "metadata": {},
   "outputs": [],
   "source": [
    "#plot Temperature profile\n",
    "#fig,ax=plt.subplots()\n",
    "#ax.plot(T_s,p)\n",
    "#ax.invert_yaxis()\n",
    "#ax.set_xlabel(\"T (K)\")\n",
    "#ax.set_ylabel(\"es (hPa)\")\n"
   ]
  },
  {
   "cell_type": "code",
   "execution_count": 18,
   "id": "7d3d3756",
   "metadata": {},
   "outputs": [
    {
     "data": {
      "image/png": "[encoded data removed]",
      "text/plain": [
       "<Figure size 800x600 with 1 Axes>"
      ]
     },
     "metadata": {},
     "output_type": "display_data"
    }
   ],
   "source": [
    "\n",
    "fig,ax=plt.subplots(figsize=(8,6))\n",
    "ax.set_ylabel(\"pressure (hPa)\")\n",
    "ax.invert_yaxis()\n",
    "ax.plot(T_s,p, color = 'red', label = 'Moist adiabat')\n",
    "ax.plot(T_pa, p, color = 'blue', label = 'Pseudo-adiabat')\n",
    "ax.legend()\n",
    "plt.show()"
   ]
  },
  {
   "cell_type": "code",
   "execution_count": null,
   "id": "f0a54500",
   "metadata": {},
   "outputs": [],
   "source": []
  }
 ],
 "metadata": {
  "kernelspec": {
   "display_name": "Python 3 (ipykernel)",
   "language": "python",
   "name": "python3"
  },
  "language_info": {
   "codemirror_mode": {
    "name": "ipython",
    "version": 3
   },
   "file_extension": ".py",
   "mimetype": "text/x-python",
   "name": "python",
   "nbconvert_exporter": "python",
   "pygments_lexer": "ipython3",
   "version": "3.9.6"
  }
 },
 "nbformat": 4,
 "nbformat_minor": 5
}
