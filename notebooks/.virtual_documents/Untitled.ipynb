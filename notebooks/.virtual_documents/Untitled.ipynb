from IPython.display import Image
urlp=""





Image(url="https://clima-dods.ictp.it/Users/tompkins/diploma/PICS/atmos_radn_electromagnetic_spectrum.png", width=100, height=100)



