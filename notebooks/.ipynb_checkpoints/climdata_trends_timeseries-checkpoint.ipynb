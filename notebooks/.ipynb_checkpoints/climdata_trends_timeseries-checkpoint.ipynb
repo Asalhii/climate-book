{
 "cells": [
  {
   "cell_type": "markdown",
   "id": "0a177226-901f-49d9-a0b4-97d48f27ce59",
   "metadata": {},
   "source": [
    "In this Lesson we will learn some basic techniques of timeseries analysis.  We will examine how to "
   ]
  },
  {
   "cell_type": "code",
   "execution_count": 4,
   "id": "a02d0ecc-8694-4f2d-b778-48e1741c3c05",
   "metadata": {},
   "outputs": [
    {
     "name": "stderr",
     "output_type": "stream",
     "text": [
      "2025-03-09 09:10:26,419 INFO [2024-09-26T00:00:00] Watch our [Forum](https://forum.ecmwf.int/) for Announcements, news and other discussed topics.\n",
      "2025-03-09 09:10:26,420 WARNING [2024-06-16T00:00:00] CDS API syntax is changed and some keys or parameter names may have also changed. To avoid requests failing, please use the \"Show API request code\" tool on the dataset Download Form to check you are using the correct syntax for your API request.\n",
      "2025-03-09 09:10:26,943 INFO Request ID is 8020a6b8-8aad-4455-bdc7-4b4fb8288bbf\n",
      "2025-03-09 09:10:27,087 INFO status has been updated to accepted\n",
      "2025-03-09 09:10:41,009 INFO status has been updated to running\n",
      "2025-03-09 09:22:47,902 INFO status has been updated to successful\n",
      "                                                                                 "
     ]
    },
    {
     "data": {
      "text/plain": [
       "'15fd091697b32f585c67d24be7b0035d.nc'"
      ]
     },
     "execution_count": 4,
     "metadata": {},
     "output_type": "execute_result"
    }
   ],
   "source": [
    "import cdsapi\n",
    "\n",
    "dataset = \"reanalysis-era5-single-levels\"\n",
    "for year in range(2000,2020):\n",
    "    request = {\n",
    "    \"product_type\": [\"reanalysis\"],\n",
    "    \"variable\": [\"2m_temperature\"],\n",
    "    \"year\": [str(year)],\n",
    "    \"month\": [\n",
    "        \"01\", \"02\", \"03\",\n",
    "        \"04\", \"05\", \"06\",\n",
    "        \"07\", \"08\", \"09\",\n",
    "        \"10\", \"11\", \"12\"\n",
    "    ],\n",
    "    \"day\": [\n",
    "        \"01\", \"02\", \"03\",\n",
    "        \"04\", \"05\", \"06\",\n",
    "        \"07\", \"08\", \"09\",\n",
    "        \"10\", \"11\", \"12\",\n",
    "        \"13\", \"14\", \"15\",\n",
    "        \"16\", \"17\", \"18\",\n",
    "        \"19\", \"20\", \"21\",\n",
    "        \"22\", \"23\", \"24\",\n",
    "        \"25\", \"26\", \"27\",\n",
    "        \"28\", \"29\", \"30\",\n",
    "        \"31\"\n",
    "    ],\n",
    "    \"time\": [\n",
    "        \"00:00\", \"01:00\", \"02:00\",\n",
    "        \"03:00\", \"04:00\", \"05:00\",\n",
    "        \"06:00\", \"07:00\", \"08:00\",\n",
    "        \"09:00\", \"10:00\", \"11:00\",\n",
    "        \"12:00\", \"13:00\", \"14:00\",\n",
    "        \"15:00\", \"16:00\", \"17:00\",\n",
    "        \"18:00\", \"19:00\", \"20:00\",\n",
    "        \"21:00\", \"22:00\", \"23:00\"\n",
    "    ],\n",
    "    \"data_format\": \"netcdf\",\n",
    "    \"download_format\": \"unarchived\",\n",
    "    \"target\":\"t2m_\"+str(year)+\".nc\",\n",
    "    \"area\": [47, 12, 45, 14]\n",
    "}\n",
    "\n",
    "client = cdsapi.Client()\n",
    "client.retrieve(dataset, request).download()"
   ]
  },
  {
   "cell_type": "code",
   "execution_count": null,
   "id": "0d8c7abf-ca9c-4dee-a8b9-3ffb60b6eb48",
   "metadata": {},
   "outputs": [],
   "source": []
  }
 ],
 "metadata": {
  "kernelspec": {
   "display_name": "conda",
   "language": "python",
   "name": "conda"
  },
  "language_info": {
   "codemirror_mode": {
    "name": "ipython",
    "version": 3
   },
   "file_extension": ".py",
   "mimetype": "text/x-python",
   "name": "python",
   "nbconvert_exporter": "python",
   "pygments_lexer": "ipython3",
   "version": "3.12.7"
  }
 },
 "nbformat": 4,
 "nbformat_minor": 5
}
