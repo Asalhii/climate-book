{
 "cells": [
  {
   "cell_type": "code",
   "execution_count": 3,
   "id": "61152cb9-a81c-4793-9591-1054aa93b07f",
   "metadata": {},
   "outputs": [],
   "source": [
    "from IPython.display import Image\n",
    "urlp=\"https://clima-dods.ictp.it/Users/tompkins/diploma/PICS/\""
   ]
  },
  {
   "cell_type": "markdown",
   "id": "a7172939-46d5-419d-9664-624b905fdef1",
   "metadata": {},
   "source": [
    "Electromagnetic radiation (EMR) can be considered as an ensemble of waves\n",
    "propagating at the speed of light, but also as photon particles\n",
    "travelling through space.  \n",
    "\n",
    "The EMR wave has both electric and magnetic\n",
    "field components and carry energy.  EMR is created from other types of\n",
    "energy, and converted to other types of energy when destroyed, usually\n",
    "when interacting with matter.\n",
    "\n",
    "For example, the vibrational and rotational kinetic energy of molecules can be converted into EMR by the emission of a photon, or can increase by the absorption of a photon.\n",
    "\n",
    "We describe the photon property in terms of its wavelength or frequency.  Electro-magnetic waves have a speed of $c=3 \\times 10^8$ m/s, with\n",
    "speed, frequency $\\nu$ and wavelength $\\lambda$ related by\n",
    "\n",
    "\\begin{equation}\n",
    "c=\\nu \\lambda\n",
    "\\label{eqn:nulam}\n",
    "\\end{equation}\n",
    "\n"
   ]
  },
  {
   "cell_type": "code",
   "execution_count": null,
   "id": "95c9c6d0-eb25-4d4a-9d18-83fdd92353a6",
   "metadata": {},
   "outputs": [],
   "source": []
  }
 ],
 "metadata": {
  "kernelspec": {
   "display_name": "Python 3 (ipykernel)",
   "language": "python",
   "name": "python3"
  },
  "language_info": {
   "codemirror_mode": {
    "name": "ipython",
    "version": 3
   },
   "file_extension": ".py",
   "mimetype": "text/x-python",
   "name": "python",
   "nbconvert_exporter": "python",
   "pygments_lexer": "ipython3",
   "version": "3.12.0"
  }
 },
 "nbformat": 4,
 "nbformat_minor": 5
}
