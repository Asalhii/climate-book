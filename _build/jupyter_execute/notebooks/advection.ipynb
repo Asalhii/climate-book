{
 "cells": [
  {
   "cell_type": "markdown",
   "metadata": {},
   "source": [
    "# Focus on advection\n"
   ]
  },
  {
   "cell_type": "markdown",
   "metadata": {},
   "source": [
    "Climate and numerical weather prediction models are constructed using\n",
    "5 fundamental set of equations\n",
    "\n",
    "## climate model equation set\n",
    "\n",
    "\n",
    "- equations of motion \n",
    "- equations of state\n",
    "- thermodynamic equation \n",
    "- mass balance equation \n",
    "- water balance equation \n",
    "\n",
    "The key equations of motion are an expression of Newton's second law $F=ma$, where the acceleration is due to the sum of the following forces:\n",
    "\n",
    "$\\frac{D{\\bf u}}{Dt} = \\frac{d {\\bf u}}{dt} + {\\bf u}.\\nabla {\\bf u} = -\\frac{1}{\\rho}\\Delta p - f{\\bf k} \\times {\\bf u}\n",
    "  - g {\\bf k} + F$\n",
    "  \n",
    "where ${\\bf u}$ is the motion vector, $\\rho$ density, $p$ pressure, $f$\n",
    "Coriolis force due to the Earth's rotation, $g$\n",
    "gravity and $F$ frictional forces. Here the terms on the RHS represent, respectively, the force due to pressure gradients, the Coriolis force resulting from the rotation of the planet, the force due to gravity which acts in the vertical, and lastly the frictional forces represented by $F$. \n",
    "\n",
    "\n",
    "The term on the left represents the Lagrangian derivative, that is,\n",
    "the rate of change moving with the flow\n",
    "($\\frac{D}{Dt}=\\frac{d}{dt}+{\\bf u}.\\nabla$), which as we saw in the first term's course, consists of the local Eulurian rate of change summed with the advection term, it is this advection term that we will examine in this lecture.\n",
    "\n",
    "The other equations of a climate or NWP model are:\n",
    "\n",
    "Equation of State:\n",
    "$p=\\rho R T$\n",
    "\n",
    "Thermodynamic equation:\n",
    "$dQ = c_p dT - v dp$\n",
    "\n",
    "Mass continuity:\n",
    "\n",
    "$\\frac{D\\rho}{Dt}=-\\rho \\nabla.{\\bf u}$\n",
    "\n"
   ]
  },
  {
   "cell_type": "markdown",
   "metadata": {},
   "source": [
    "$\\frac{Dq}{Dt}= \\frac{dq}{dt}+u\\frac{dq}{dx}=S=0$"
   ]
  },
  {
   "cell_type": "code",
   "execution_count": 1,
   "metadata": {},
   "outputs": [],
   "source": [
    "import numpy as np \n",
    "import matplotlib.pyplot as plt"
   ]
  },
  {
   "cell_type": "code",
   "execution_count": 2,
   "metadata": {},
   "outputs": [
    {
     "name": "stdout",
     "output_type": "stream",
     "text": [
      "[ 0.          0.06216964  0.12409875  0.18554775  0.24627891  0.30605725\n",
      "  0.36465153  0.42183503  0.47738654  0.53109113  0.58274104  0.63213643\n",
      "  0.67908621  0.72340873  0.76493253  0.80349695  0.8389528   0.87116291\n",
      "  0.90000265  0.92536046  0.94713823  0.9652517   0.97963081  0.99021991\n",
      "  0.99697804  0.99987906  0.99891174  0.99407983  0.98540202  0.97291187\n",
      "  0.95665772  0.93670244  0.91312325  0.88601136  0.85547166  0.82162231\n",
      "  0.78459427  0.74453078  0.70158684  0.6559286   0.6077327   0.5571856\n",
      "  0.50448286  0.44982838  0.39343359  0.33551669  0.27630173  0.21601782\n",
      "  0.15489818  0.09317927  0.03109986 -0.03109986 -0.09317927 -0.15489818\n",
      " -0.21601782 -0.27630173 -0.33551669 -0.39343359 -0.44982838 -0.50448286\n",
      " -0.5571856  -0.6077327  -0.6559286  -0.70158684 -0.74453078 -0.78459427\n",
      " -0.82162231 -0.85547166 -0.88601136 -0.91312325 -0.93670244 -0.95665772\n",
      " -0.97291187 -0.98540202 -0.99407983 -0.99891174 -0.99987906 -0.99697804\n",
      " -0.99021991 -0.97963081 -0.9652517  -0.94713823 -0.92536046 -0.90000265\n",
      " -0.87116291 -0.8389528  -0.80349695 -0.76493253 -0.72340873 -0.67908621\n",
      " -0.63213643 -0.58274104 -0.53109113 -0.47738654 -0.42183503 -0.36465153\n",
      " -0.30605725 -0.24627891 -0.18554775 -0.12409875 -0.06216964]\n"
     ]
    }
   ],
   "source": [
    "# parameter\n",
    "xsize=100. #(m)\n",
    "dx=1  # (m)\n",
    "\n",
    "dt=0.05 # timestep (sec)\n",
    "uvel=1.0  # horizontal velocity (m/s)\n",
    "time=400. # total time of the simulation\n",
    "\n",
    "# set up x grid and initial profile of q \n",
    "xpt=np.linspace(0,xsize,int(xsize/dx)+1)\n",
    "qinit=np.sin(2*np.pi*xpt/(xsize+1))\n",
    "\n",
    "#qinit=(xpt>xsize/2)*2-1\n",
    "#qinit=(qinit+np.roll(qinit,1)+np.roll(qinit,-1))/3\n",
    "print(qinit)"
   ]
  },
  {
   "cell_type": "markdown",
   "metadata": {},
   "source": [
    "Now we want to discretize the equation\n",
    "\n",
    "Using forward in time for $\\frac{dq}{dt}$ and centered in space difference for $\\frac{dq}{dx}$\n",
    "\n",
    "$\\frac{q_{t+1,i}-q_{t,i}}{\\Delta t} + u \\frac{q_{t,i+1}-q_{t,i-1}}{2 \\Delta x}=0$\n",
    "\n",
    "giving us an expression for the future value \n",
    "\n",
    "$q_{t+1,i} = q_{t,i} - u\\Delta t \\frac{q_{t,i+1}-q_{t,i-1}}{2 \\Delta x}$\n",
    "\n"
   ]
  },
  {
   "cell_type": "code",
   "execution_count": 3,
   "metadata": {},
   "outputs": [
    {
     "data": {
      "image/png": "[encoded data removed]",
      "text/plain": [
       "<Figure size 432x288 with 1 Axes>"
      ]
     },
     "metadata": {
      "filenames": {
       "image/png": "/Users/tompkins/TEACHING/ESM_BOOK/_build/jupyter_execute/notebooks/advection_6_0.png"
      },
      "needs_background": "light"
     },
     "output_type": "display_data"
    }
   ],
   "source": [
    "nsteps=int(time/dt)\n",
    "q0=qinit # current value\n",
    "K0=uvel*dt/(2*dx)\n",
    "\n",
    "# integrate equations\n",
    "for it in range(nsteps):\n",
    "    q1=q0-K0*(np.roll(q0,-1)-np.roll(q0,1))\n",
    "    q0=q1\n",
    "    qtrue=np.roll(qinit,int((it+1)*dt*uvel))\n",
    "\n",
    "fig, ax = plt.subplots()\n",
    "ax.set_title(\"this is the title\")\n",
    "ax.plot(xpt,qinit,label=\"Initial\")       \n",
    "ax.plot(xpt,q1,label=\"Final\")\n",
    "ax.plot(xpt,qtrue,label=\"True\")\n",
    "\n",
    "ax.legend() \n",
    "plt.show()"
   ]
  },
  {
   "cell_type": "code",
   "execution_count": 4,
   "metadata": {},
   "outputs": [
    {
     "data": {
      "text/plain": [
       "array([0, 1, 2, 3, 4, 5, 6, 7, 8, 9])"
      ]
     },
     "execution_count": 4,
     "metadata": {},
     "output_type": "execute_result"
    }
   ],
   "source": [
    "xtest=np.array(range(10))\n",
    "xtest"
   ]
  },
  {
   "cell_type": "code",
   "execution_count": 5,
   "metadata": {},
   "outputs": [
    {
     "data": {
      "text/plain": [
       "array([1, 2, 3, 4, 5, 6, 7, 8, 9, 0])"
      ]
     },
     "execution_count": 5,
     "metadata": {},
     "output_type": "execute_result"
    }
   ],
   "source": [
    "np.roll(xtest,-1)\n"
   ]
  },
  {
   "cell_type": "code",
   "execution_count": null,
   "metadata": {},
   "outputs": [],
   "source": []
  }
 ],
 "metadata": {
  "kernelspec": {
   "display_name": "Python 3 (ipykernel)",
   "language": "python",
   "name": "python3"
  },
  "language_info": {
   "codemirror_mode": {
    "name": "ipython",
    "version": 3
   },
   "file_extension": ".py",
   "mimetype": "text/x-python",
   "name": "python",
   "nbconvert_exporter": "python",
   "pygments_lexer": "ipython3",
   "version": "3.9.9"
  }
 },
 "nbformat": 4,
 "nbformat_minor": 2
}