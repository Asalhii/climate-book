{
 "cells": [
  {
   "cell_type": "markdown",
   "id": "8325ff3e-5e09-40c5-9a52-8f5d9fd7e73d",
   "metadata": {},
   "source": [
    "# radiation\n",
    "\n",
    "What is a photon \n",
    "\n",
    "Spectrum\n",
    "\n"
   ]
  },
  {
   "cell_type": "code",
   "execution_count": null,
   "id": "e285e509-947a-4725-a7af-503401f9086a",
   "metadata": {},
   "outputs": [],
   "source": [
    "# What is a black body?\n",
    "\n"
   ]
  },
  {
   "cell_type": "code",
   "execution_count": null,
   "id": "d875055b-3526-47a8-b174-e098867d2f9f",
   "metadata": {},
   "outputs": [],
   "source": []
  },
  {
   "cell_type": "code",
   "execution_count": 5,
   "id": "d9613c23-bcaa-4a5c-b537-986ccc7632a4",
   "metadata": {},
   "outputs": [
    {
     "ename": "SyntaxError",
     "evalue": "invalid syntax (4165630560.py, line 3)",
     "output_type": "error",
     "traceback": [
      "\u001b[0;36m  Cell \u001b[0;32mIn[5], line 3\u001b[0;36m\u001b[0m\n\u001b[0;31m    $\u001b[0m\n\u001b[0m    ^\u001b[0m\n\u001b[0;31mSyntaxError\u001b[0m\u001b[0;31m:\u001b[0m invalid syntax\n"
     ]
    }
   ],
   "source": [
    "# What is a black body?\n",
    "\n",
    "$\n",
    "B_\\lambda(T) \\equiv L_\\lambda(T) = \\frac{2 h c^2}{\\lambda^5 (e^\\frac{c h}{k \\lambda T} -1)}\n",
    "\\label{eqn:planck_lam}\n",
    "$"
   ]
  },
  {
   "cell_type": "code",
   "execution_count": null,
   "id": "92c2e161-24b8-40ba-b257-7c1e017c20c2",
   "metadata": {},
   "outputs": [],
   "source": []
  }
 ],
 "metadata": {
  "kernelspec": {
   "display_name": "Python 3 (ipykernel)",
   "language": "python",
   "name": "python3"
  },
  "language_info": {
   "codemirror_mode": {
    "name": "ipython",
    "version": 3
   },
   "file_extension": ".py",
   "mimetype": "text/x-python",
   "name": "python",
   "nbconvert_exporter": "python",
   "pygments_lexer": "ipython3",
   "version": "3.11.6"
  }
 },
 "nbformat": 4,
 "nbformat_minor": 5
}
